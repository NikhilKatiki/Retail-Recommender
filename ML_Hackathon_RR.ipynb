{
 "cells": [
  {
   "cell_type": "markdown",
   "id": "bbda9acd",
   "metadata": {},
   "source": [
    "# Retail Recommender "
   ]
  },
  {
   "cell_type": "markdown",
   "id": "66ba823f",
   "metadata": {},
   "source": [
    "## Importing Data "
   ]
  },
  {
   "cell_type": "code",
   "execution_count": null,
   "id": "2ab2003d",
   "metadata": {},
   "outputs": [],
   "source": [
    "import pandas as pd\n",
    "train=pd.read_csv(r\"C:\\Users\\Nikhi\\Desktop\\97c63414-3-dataset\\dataset\\train.csv\")\n",
    "prior = pd.read_csv(r'C:\\Users\\Nikhi\\Desktop\\97c63414-3-dataset\\dataset\\Raw Data\\order_products__prior.csv')\n",
    "aisles = pd.read_csv(r'C:\\Users\\Nikhi\\Desktop\\97c63414-3-dataset\\dataset\\Raw Data\\aisles.csv')\n",
    "departments = pd.read_csv(r'C:\\Users\\Nikhi\\Desktop\\97c63414-3-dataset\\dataset\\Raw Data\\departments.csv')\n",
    "prior = pd.read_csv(r'C:\\Users\\Nikhi\\Desktop\\97c63414-3-dataset\\dataset\\Raw Data\\order_products__prior.csv')\n",
    "orders = pd.read_csv(r'C:\\Users\\Nikhi\\Desktop\\97c63414-3-dataset\\dataset\\Raw Data\\orders.csv')\n",
    "products = pd.read_csv(r'C:\\Users\\Nikhi\\Desktop\\97c63414-3-dataset\\dataset\\Raw Data\\products.csv')"
   ]
  },
  {
   "cell_type": "code",
   "execution_count": 2,
   "id": "59cc11cf",
   "metadata": {},
   "outputs": [],
   "source": [
    "all_orders = pd.concat([prior,train],axis = 0)\n",
    "all_orders = all_orders.merge(products[['product_id','aisle_id','department_id']], how = 'inner', on = 'product_id')\n",
    "all_orders = all_orders.merge(aisles, on = 'aisle_id')\n",
    "all_orders = all_orders.merge(departments, on = 'department_id')\n",
    "all_orders = all_orders.merge(orders[['order_id','user_id']], on = 'order_id')\n",
    "all_orders=all_orders.drop(\"user_id_x\",axis=1)\n",
    "all_orders=all_orders.rename(columns={'user_id_y':'user_id'})"
   ]
  },
  {
   "cell_type": "code",
   "execution_count": 3,
   "id": "00a4e135",
   "metadata": {},
   "outputs": [
    {
     "data": {
      "text/plain": [
       "Index(['order_id', 'product_id', 'add_to_cart_order', 'reordered', 'user_id',\n",
       "       'ID'],\n",
       "      dtype='object')"
      ]
     },
     "execution_count": 3,
     "metadata": {},
     "output_type": "execute_result"
    }
   ],
   "source": [
    "train.columns "
   ]
  },
  {
   "cell_type": "markdown",
   "id": "b688b4b7",
   "metadata": {},
   "source": [
    "## Feature Engineering"
   ]
  },
  {
   "cell_type": "code",
   "execution_count": 4,
   "id": "acc954bb",
   "metadata": {},
   "outputs": [],
   "source": [
    "#Creating user level and aisle level add to card order \n",
    "aisle_hist = all_orders[['user_id','add_to_cart_order','aisle']].groupby(['user_id','aisle']).sum().reset_index()\n",
    "#Creating user level and department level add to card order \n",
    "dept_hist = all_orders[['user_id','add_to_cart_order','department']].groupby(['user_id','department']).sum().reset_index()\n",
    "#Creating the base for aisle segment \n",
    "user_volume = aisle_hist.groupby('user_id')['add_to_cart_order'].sum()\n",
    "#Renaming the columns to volume\n",
    "user_volume = user_volume.reset_index().rename(columns = {'add_to_cart_order':'volume'})\n",
    "#merging the aisle hist with the user volume to get the aisle share \n",
    "aisle_hist = aisle_hist.merge(user_volume, how = 'inner', on = 'user_id')\n",
    "#merging the department hist with the user volume to get the aisle share \n",
    "dept_hist = dept_hist.merge(user_volume, how = 'inner', on = 'user_id')\n",
    "#Calculating aisle share across aisle\n",
    "aisle_hist['aisle_share'] = aisle_hist['add_to_cart_order'] / aisle_hist['volume']\n",
    "#Calculating dept share across department \n",
    "dept_hist['dept_share'] = dept_hist['add_to_cart_order'] / dept_hist['volume']\n"
   ]
  },
  {
   "cell_type": "code",
   "execution_count": 5,
   "id": "2a1a8412",
   "metadata": {},
   "outputs": [],
   "source": [
    "#aisle add to cart order summary at user and aisle level\n",
    "aisle_vol_pivot = aisle_hist[['user_id','aisle','add_to_cart_order']].pivot(index = 'user_id', columns = 'aisle', values = 'add_to_cart_order')\n",
    "#aisle aisle share summary at user and aisle level\n",
    "aisle_share_pivot = aisle_hist[['user_id','aisle','aisle_share']].pivot(index = 'user_id', columns = 'aisle', values = 'aisle_share')\n",
    "#aisle add to cart order summary at user and department level\n",
    "dept_vol_pivot = dept_hist[['user_id','department','add_to_cart_order']].pivot(index = 'user_id', columns = 'department', values = 'add_to_cart_order')\n",
    "#aisle share summary at user and department level\n",
    "dept_share_pivot = dept_hist[['user_id','department','dept_share']].pivot(index = 'user_id', columns = 'department', values = 'dept_share')"
   ]
  },
  {
   "cell_type": "code",
   "execution_count": 6,
   "id": "1471c514",
   "metadata": {},
   "outputs": [],
   "source": [
    "#Replacing any missing values with zero\n",
    "aisle_vol_pivot = aisle_vol_pivot.fillna(value = 0)\n",
    "aisle_share_pivot = aisle_share_pivot.fillna(value = 0)\n",
    "dept_vol_pivot = dept_vol_pivot.fillna(value = 0)\n",
    "dept_share_pivot = dept_share_pivot.fillna(value = 0)"
   ]
  },
  {
   "cell_type": "code",
   "execution_count": 7,
   "id": "53dcce46",
   "metadata": {},
   "outputs": [
    {
     "data": {
      "text/plain": [
       "(206209, 134)"
      ]
     },
     "execution_count": 7,
     "metadata": {},
     "output_type": "execute_result"
    }
   ],
   "source": [
    "aisle_share_pivot.shape"
   ]
  },
  {
   "cell_type": "code",
   "execution_count": 8,
   "id": "01f7ed42",
   "metadata": {},
   "outputs": [],
   "source": [
    "train_n1=train.merge(aisle_share_pivot,on=\"user_id\")\n",
    "train_n2=train_n1.merge(dept_share_pivot,on=\"user_id\")"
   ]
  },
  {
   "cell_type": "code",
   "execution_count": 9,
   "id": "386a365a",
   "metadata": {},
   "outputs": [
    {
     "name": "stdout",
     "output_type": "stream",
     "text": [
      "(787911, 140)\n",
      "(787911, 161)\n",
      "Index(['air fresheners candles', 'asian foods', 'baby accessories',\n",
      "       'baby bath body care', 'baby food formula', 'bakery desserts',\n",
      "       'baking ingredients', 'baking supplies decor', 'beauty',\n",
      "       'beers coolers',\n",
      "       ...\n",
      "       'spreads', 'tea', 'tofu meat alternatives', 'tortillas flat bread',\n",
      "       'trail mix snack mix', 'trash bags liners', 'vitamins supplements',\n",
      "       'water seltzer sparkling water', 'white wines', 'yogurt'],\n",
      "      dtype='object', name='aisle', length=134)\n",
      "Index(['alcohol', 'babies', 'bakery', 'beverages', 'breakfast', 'bulk',\n",
      "       'canned goods', 'dairy eggs', 'deli', 'dry goods pasta', 'frozen',\n",
      "       'household', 'international', 'meat seafood', 'missing', 'other',\n",
      "       'pantry', 'personal care', 'pets', 'produce', 'snacks'],\n",
      "      dtype='object', name='department')\n",
      "Index(['order_id', 'product_id', 'add_to_cart_order', 'reordered', 'user_id',\n",
      "       'ID', 'air fresheners candles', 'asian foods', 'baby accessories',\n",
      "       'baby bath body care',\n",
      "       ...\n",
      "       'household', 'international', 'meat seafood', 'missing_y', 'other_y',\n",
      "       'pantry', 'personal care', 'pets', 'produce', 'snacks'],\n",
      "      dtype='object', length=161)\n"
     ]
    }
   ],
   "source": [
    "print(train_n1.shape)\n",
    "print(train_n2.shape)\n",
    "print(aisle_share_pivot.columns)\n",
    "print(dept_share_pivot.columns)\n",
    "print(train_n2.columns)\n",
    "#train_n2.head().to_csv(\"fornames.csv\")"
   ]
  },
  {
   "cell_type": "code",
   "execution_count": 10,
   "id": "b94fa74b",
   "metadata": {},
   "outputs": [],
   "source": [
    "#there are two columns with the same values. Hence, removing them\n",
    "train_n2[train_n2['other_x']!=train_n2['other_y']]\n",
    "train_n2[train_n2['missing_x']!=train_n2['missing_y']]\n",
    "train_n2=train_n2.drop(['missing_y','other_y'],axis=1)\n",
    "train_n2=train_n2.rename(index={'missing_x':'missing','other_x':'other'})\n",
    "train_n2.shape\n",
    "df=train_n2.copy()"
   ]
  },
  {
   "cell_type": "code",
   "execution_count": 11,
   "id": "320fc07e",
   "metadata": {},
   "outputs": [
    {
     "name": "stdout",
     "output_type": "stream",
     "text": [
      "158\n",
      "['order_id', 'product_id', 'add_to_cart_order', 'user_id', 'ID', 'air fresheners candles', 'asian foods', 'baby accessories', 'baby bath body care', 'baby food formula', 'bakery desserts', 'baking ingredients', 'baking supplies decor', 'beauty', 'beers coolers', 'body lotions soap', 'bread', 'breakfast bakery', 'breakfast bars pastries', 'bulk dried fruits vegetables', 'bulk grains rice dried goods', 'buns rolls', 'butter', 'candy chocolate', 'canned fruit applesauce', 'canned jarred vegetables', 'canned meals beans', 'canned meat seafood', 'cat food care', 'cereal', 'chips pretzels', 'cleaning products', 'cocoa drink mixes', 'coffee', 'cold flu allergy', 'condiments', 'cookies cakes', 'crackers', 'cream', 'deodorants', 'diapers wipes', 'digestion', 'dish detergents', 'dog food care', 'doughs gelatins bake mixes', 'dry pasta', 'eggs', 'energy granola bars', 'energy sports drinks', 'eye ear care', 'facial care', 'feminine care', 'first aid', 'food storage', 'fresh dips tapenades', 'fresh fruits', 'fresh herbs', 'fresh pasta', 'fresh vegetables', 'frozen appetizers sides', 'frozen breads doughs', 'frozen breakfast', 'frozen dessert', 'frozen juice', 'frozen meals', 'frozen meat seafood', 'frozen pizza', 'frozen produce', 'frozen vegan vegetarian', 'fruit vegetable snacks', 'grains rice dried goods', 'granola', 'hair care', 'honeys syrups nectars', 'hot cereal pancake mixes', 'hot dogs bacon sausage', 'ice cream ice', 'ice cream toppings', 'indian foods', 'instant foods', 'juice nectars', 'kitchen supplies', 'kosher foods', 'latino foods', 'laundry', 'lunch meat', 'marinades meat preparation', 'meat counter', 'milk', 'mint gum', 'missing_x', 'more household', 'muscles joints pain relief', 'nuts seeds dried fruit', 'oils vinegars', 'oral hygiene', 'other_x', 'other creams cheeses', 'packaged cheese', 'packaged meat', 'packaged poultry', 'packaged produce', 'packaged seafood', 'packaged vegetables fruits', 'paper goods', 'pasta sauce', 'pickled goods olives', 'plates bowls cups flatware', 'popcorn jerky', 'poultry counter', 'prepared meals', 'prepared soups salads', 'preserved dips spreads', 'protein meal replacements', 'red wines', 'refrigerated', 'refrigerated pudding desserts', 'salad dressing toppings', 'seafood counter', 'shave needs', 'skin care', 'soap', 'soft drinks', 'soup broth bouillon', 'soy lactosefree', 'specialty cheeses', 'specialty wines champagnes', 'spices seasonings', 'spirits', 'spreads', 'tea', 'tofu meat alternatives', 'tortillas flat bread', 'trail mix snack mix', 'trash bags liners', 'vitamins supplements', 'water seltzer sparkling water', 'white wines', 'yogurt', 'alcohol', 'babies', 'bakery', 'beverages', 'breakfast', 'bulk', 'canned goods', 'dairy eggs', 'deli', 'dry goods pasta', 'frozen', 'household', 'international', 'meat seafood', 'pantry', 'personal care', 'pets', 'produce', 'snacks']\n"
     ]
    }
   ],
   "source": [
    "l1=train_n2.columns.to_list()\n",
    "l1.remove('reordered')\n",
    "#l1.remove('user_id')\n",
    "#l1.remove('order_id')\n",
    "#l1.remove('product_id')\n",
    "#l1.remove('ID')\n",
    "print(len(l1))\n",
    "print(l1)"
   ]
  },
  {
   "cell_type": "markdown",
   "id": "8dfd98cf",
   "metadata": {},
   "source": [
    "## Model Development"
   ]
  },
  {
   "cell_type": "markdown",
   "id": "19263dfc",
   "metadata": {},
   "source": [
    "### Splitting the test and train data "
   ]
  },
  {
   "cell_type": "code",
   "execution_count": 12,
   "id": "e05eec08",
   "metadata": {},
   "outputs": [],
   "source": [
    "#Splitting the data into train and test datasets \n",
    "input_list=l1\n",
    "from sklearn.model_selection import train_test_split\n",
    "x_train,x_test,y_train,y_test = train_test_split(df[l1],df['reordered'], test_size=0.2, random_state=25)"
   ]
  },
  {
   "cell_type": "code",
   "execution_count": 13,
   "id": "c5564f0d",
   "metadata": {},
   "outputs": [
    {
     "name": "stdout",
     "output_type": "stream",
     "text": [
      "(630328, 158) (157583, 158) (630328,) (157583,)\n"
     ]
    }
   ],
   "source": [
    "print(x_train.shape,x_test.shape,y_train.shape,y_test.shape)"
   ]
  },
  {
   "cell_type": "markdown",
   "id": "70d6caf9",
   "metadata": {},
   "source": [
    "### Logistic regression"
   ]
  },
  {
   "cell_type": "code",
   "execution_count": 41,
   "id": "ba301ff2",
   "metadata": {},
   "outputs": [
    {
     "name": "stdout",
     "output_type": "stream",
     "text": [
      "Accuracy of logistic regression classifier on test set: 0.61\n",
      "[[    0 61965]\n",
      " [    0 95618]]\n"
     ]
    }
   ],
   "source": [
    "#from sklearn.feature_selection import RFE\n",
    "from sklearn.linear_model import LogisticRegression\n",
    "logreg = LogisticRegression()\n",
    "logreg.fit(x_train,y_train)\n",
    "Yhat_log=logreg.predict(x_test)\n",
    "print('Accuracy of logistic regression classifier on test set: {:.2f}'.format(logreg.score(x_test, y_test)))\n",
    "from sklearn.metrics import confusion_matrix\n",
    "confusion_matrix = confusion_matrix(y_test, Yhat_log)\n",
    "print(confusion_matrix)"
   ]
  },
  {
   "cell_type": "code",
   "execution_count": 75,
   "id": "acd1aaaf",
   "metadata": {},
   "outputs": [
    {
     "data": {
      "image/png": "[encoded data removed]",
      "text/plain": [
       "<Figure size 432x288 with 1 Axes>"
      ]
     },
     "metadata": {
      "needs_background": "light"
     },
     "output_type": "display_data"
    }
   ],
   "source": [
    "import matplotlib.pyplot as plt\n",
    "from sklearn import metrics\n",
    "#ROC curve \n",
    "from sklearn.metrics import roc_curve\n",
    "#define metrics\n",
    "y_pred_proba = logreg.predict_proba(x_test)[::,1]\n",
    "fpr, tpr, _ = metrics.roc_curve(y_test,  y_pred_proba)\n",
    "\n",
    "#create ROC curve\n",
    "plt.plot(fpr,tpr)\n",
    "plt.plot([[0,0],[1,1]])\n",
    "plt.title(\"Logistic Regression ROC Curve\")\n",
    "plt.ylabel('True Positive Rate')\n",
    "plt.xlabel('False Positive Rate')\n",
    "plt.show()"
   ]
  },
  {
   "cell_type": "markdown",
   "id": "81e6c523",
   "metadata": {},
   "source": [
    "### Decision Tree"
   ]
  },
  {
   "cell_type": "code",
   "execution_count": 16,
   "id": "9604a5a5",
   "metadata": {},
   "outputs": [
    {
     "name": "stdout",
     "output_type": "stream",
     "text": [
      "Accuracy of logistic regression classifier on test set: 0.62\n",
      "[[ 9176 52789]\n",
      " [ 7043 88575]]\n"
     ]
    }
   ],
   "source": [
    "from sklearn import tree\n",
    "clf = tree.DecisionTreeClassifier(max_depth=3)\n",
    "clf=clf.fit(x_train,y_train)\n",
    "Yhat_tree=clf.predict(x_test)\n",
    "print('Accuracy of logistic regression classifier on test set: {:.2f}'.format(clf.score(x_test, y_test)))\n",
    "from sklearn.metrics import confusion_matrix\n",
    "confusion_matrix = confusion_matrix(y_test, Yhat_tree)\n",
    "print(confusion_matrix)"
   ]
  },
  {
   "cell_type": "code",
   "execution_count": 17,
   "id": "3884a006",
   "metadata": {},
   "outputs": [
    {
     "data": {
      "text/plain": [
       "[Text(558.0, 475.65000000000003, 'X[2] <= 6.5\\ngini = 0.477\\nsamples = 630328\\nvalue = [248038, 382290]'),\n",
       " Text(279.0, 339.75, 'X[129] <= 0.0\\ngini = 0.442\\nsamples = 325903\\nvalue = [107504, 218399]'),\n",
       " Text(139.5, 203.85000000000002, 'X[2] <= 2.5\\ngini = 0.466\\nsamples = 181111\\nvalue = [66799, 114312]'),\n",
       " Text(69.75, 67.94999999999999, 'gini = 0.433\\nsamples = 71420\\nvalue = [22662, 48758]'),\n",
       " Text(209.25, 67.94999999999999, 'gini = 0.481\\nsamples = 109691\\nvalue = [44137, 65554]'),\n",
       " Text(418.5, 203.85000000000002, 'X[153] <= 0.116\\ngini = 0.404\\nsamples = 144792\\nvalue = [40705, 104087]'),\n",
       " Text(348.75, 67.94999999999999, 'gini = 0.383\\nsamples = 115614\\nvalue = [29839, 85775]'),\n",
       " Text(488.25, 67.94999999999999, 'gini = 0.467\\nsamples = 29178\\nvalue = [10866, 18312]'),\n",
       " Text(837.0, 339.75, 'X[129] <= 0.0\\ngini = 0.497\\nsamples = 304425\\nvalue = [140534, 163891]'),\n",
       " Text(697.5, 203.85000000000002, 'X[2] <= 11.5\\ngini = 0.498\\nsamples = 133922\\nvalue = [70916, 63006]'),\n",
       " Text(627.75, 67.94999999999999, 'gini = 0.5\\nsamples = 68560\\nvalue = [33366, 35194]'),\n",
       " Text(767.25, 67.94999999999999, 'gini = 0.489\\nsamples = 65362\\nvalue = [37550, 27812]'),\n",
       " Text(976.5, 203.85000000000002, 'X[94] <= 0.0\\ngini = 0.483\\nsamples = 170503\\nvalue = [69618, 100885]'),\n",
       " Text(906.75, 67.94999999999999, 'gini = 0.499\\nsamples = 61889\\nvalue = [29574, 32315]'),\n",
       " Text(1046.25, 67.94999999999999, 'gini = 0.466\\nsamples = 108614\\nvalue = [40044, 68570]')]"
      ]
     },
     "execution_count": 17,
     "metadata": {},
     "output_type": "execute_result"
    },
    {
     "data": {
      "image/png": "[encoded data removed]",
      "text/plain": [
       "<Figure size 1440x720 with 1 Axes>"
      ]
     },
     "metadata": {
      "needs_background": "light"
     },
     "output_type": "display_data"
    }
   ],
   "source": [
    "import matplotlib.pyplot as plt \n",
    "%matplotlib inline\n",
    "plt.figure(figsize=(20,10))\n",
    "tree.plot_tree(clf, filled=True, fontsize=14)"
   ]
  },
  {
   "cell_type": "code",
   "execution_count": 82,
   "id": "6659c840",
   "metadata": {},
   "outputs": [
    {
     "data": {
      "image/png": "[encoded data removed]",
      "text/plain": [
       "<Figure size 432x288 with 1 Axes>"
      ]
     },
     "metadata": {
      "needs_background": "light"
     },
     "output_type": "display_data"
    }
   ],
   "source": [
    "import matplotlib.pyplot as plt\n",
    "from sklearn import metrics\n",
    "#ROC curve \n",
    "from sklearn.metrics import roc_curve\n",
    "#define metrics\n",
    "y_pred_proba = clf.predict_proba(x_test)[::,1]\n",
    "fpr, tpr, _ = metrics.roc_curve(y_test,  y_pred_proba)\n",
    "\n",
    "#create ROC curve\n",
    "plt.plot(fpr,tpr)\n",
    "plt.plot([[0,0],[1,1]])\n",
    "plt.title(\"Decision Tree ROC Curve\")\n",
    "plt.ylabel('True Positive Rate')\n",
    "plt.xlabel('False Positive Rate')\n",
    "plt.show()"
   ]
  },
  {
   "cell_type": "markdown",
   "id": "38068a8a",
   "metadata": {},
   "source": [
    "### Xgboost Algorithm"
   ]
  },
  {
   "cell_type": "code",
   "execution_count": 36,
   "id": "764d69ac",
   "metadata": {},
   "outputs": [
    {
     "name": "stderr",
     "output_type": "stream",
     "text": [
      "C:\\Users\\Nikhi\\anaconda3\\lib\\site-packages\\xgboost\\sklearn.py:1224: UserWarning: The use of label encoder in XGBClassifier is deprecated and will be removed in a future release. To remove this warning, do the following: 1) Pass option use_label_encoder=False when constructing XGBClassifier object; and 2) Encode your labels (y) as integers starting with 0, i.e. 0, 1, 2, ..., [num_class - 1].\n",
      "  warnings.warn(label_encoder_deprecation_msg, UserWarning)\n"
     ]
    },
    {
     "name": "stdout",
     "output_type": "stream",
     "text": [
      "[15:03:33] WARNING: C:/Users/Administrator/workspace/xgboost-win64_release_1.5.0/src/learner.cc:1115: Starting in XGBoost 1.3.0, the default evaluation metric used with the objective 'binary:logistic' was changed from 'error' to 'logloss'. Explicitly set eval_metric if you'd like to restore the old behavior.\n",
      "Accuracy of logistic regression classifier on test set: 0.69\n",
      "[[27619 34346]\n",
      " [15053 80565]]\n"
     ]
    }
   ],
   "source": [
    "from xgboost import XGBClassifier\n",
    "xgb=XGBClassifier()\n",
    "xgb.fit(x_train,y_train)\n",
    "Yhat_xgb=xgb.predict(x_test)\n",
    "print('Accuracy of logistic regression classifier on test set: {:.2f}'.format(xgb.score(x_test, y_test)))\n",
    "from sklearn.metrics import confusion_matrix\n",
    "confusion_matrix = confusion_matrix(y_test, Yhat_xgb)\n",
    "print(confusion_matrix)"
   ]
  },
  {
   "cell_type": "code",
   "execution_count": 77,
   "id": "566d60a7",
   "metadata": {},
   "outputs": [
    {
     "data": {
      "image/png": "[encoded data removed]",
      "text/plain": [
       "<Figure size 432x288 with 1 Axes>"
      ]
     },
     "metadata": {
      "needs_background": "light"
     },
     "output_type": "display_data"
    }
   ],
   "source": [
    "#define metrics\n",
    "y_pred_proba = xgb.predict_proba(x_test)[::,1]\n",
    "fpr, tpr, _ = metrics.roc_curve(y_test,  y_pred_proba)\n",
    "\n",
    "#create ROC curve\n",
    "plt.plot(fpr,tpr)\n",
    "plt.plot([[0,0],[1,1]])\n",
    "plt.title(\"Xgboost Classifier ROC Curve\")\n",
    "plt.ylabel('True Positive Rate')\n",
    "plt.xlabel('False Positive Rate')\n",
    "plt.show()\n"
   ]
  },
  {
   "cell_type": "markdown",
   "id": "39689dcc",
   "metadata": {},
   "source": [
    "### Random Forest"
   ]
  },
  {
   "cell_type": "code",
   "execution_count": 37,
   "id": "7cd221b9",
   "metadata": {},
   "outputs": [
    {
     "name": "stdout",
     "output_type": "stream",
     "text": [
      "Accuracy of random forest classifier on test set: 0.73\n",
      "[[38472 23493]\n",
      " [19583 76035]]\n"
     ]
    }
   ],
   "source": [
    "from sklearn.ensemble import RandomForestClassifier\n",
    "rf=RandomForestClassifier()\n",
    "rf.fit(x_train,y_train)\n",
    "Yhat_rf=rf.predict(x_test)\n",
    "print('Accuracy of random forest classifier on test set: {:.2f}'.format(rf.score(x_test,y_test)))\n",
    "from sklearn.metrics import confusion_matrix\n",
    "confusion_matrix = confusion_matrix(y_test, Yhat_rf)\n",
    "print(confusion_matrix)"
   ]
  },
  {
   "cell_type": "code",
   "execution_count": 100,
   "id": "9692e84a",
   "metadata": {},
   "outputs": [
    {
     "data": {
      "text/plain": [
       "<AxesSubplot:>"
      ]
     },
     "execution_count": 100,
     "metadata": {},
     "output_type": "execute_result"
    },
    {
     "data": {
      "image/png": "[encoded data removed]",
      "text/plain": [
       "<Figure size 432x288 with 1 Axes>"
      ]
     },
     "metadata": {
      "needs_background": "light"
     },
     "output_type": "display_data"
    }
   ],
   "source": [
    "import numpy as np\n",
    "importances=rf.feature_importances_\n",
    "importances = rf.feature_importances_\n",
    "std = np.std([rf.feature_importances_ for tree in rf.estimators_], axis=0)\n",
    "forest_importances = pd.Series(importances, index=input_list)\n",
    "forest_importances1=forest_importances.sort_values(ascending=False)[3:10]\n",
    "#forest_importances=forest_importances.sort_values('importances',ascending=False)[:20]\n",
    "forest_importances1.plot.bar(x='lab',y='val',rot=0)\n"
   ]
  },
  {
   "cell_type": "code",
   "execution_count": 96,
   "id": "5b630ef5",
   "metadata": {},
   "outputs": [
    {
     "name": "stdout",
     "output_type": "stream",
     "text": [
      "<class 'pandas.core.series.Series'>\n"
     ]
    }
   ],
   "source": [
    "print(type(forest_importances))\n",
    "importances\n"
   ]
  },
  {
   "cell_type": "code",
   "execution_count": 78,
   "id": "c90419a1",
   "metadata": {},
   "outputs": [
    {
     "data": {
      "image/png": "[encoded data removed]",
      "text/plain": [
       "<Figure size 432x288 with 1 Axes>"
      ]
     },
     "metadata": {
      "needs_background": "light"
     },
     "output_type": "display_data"
    }
   ],
   "source": [
    "#define metrics\n",
    "y_pred_proba = rf.predict_proba(x_test)[::,1]\n",
    "fpr, tpr, _ = metrics.roc_curve(y_test,  y_pred_proba)\n",
    "\n",
    "#create ROC curve\n",
    "plt.plot(fpr,tpr)\n",
    "plt.plot([[0,0],[1,1]])\n",
    "plt.title(\"Random Forest Classifier ROC Curve\")\n",
    "plt.ylabel('True Positive Rate')\n",
    "plt.xlabel('False Positive Rate')\n",
    "plt.show()"
   ]
  },
  {
   "cell_type": "markdown",
   "id": "3473e366",
   "metadata": {},
   "source": [
    "### LightGBM"
   ]
  },
  {
   "cell_type": "code",
   "execution_count": 68,
   "id": "a2594577",
   "metadata": {},
   "outputs": [
    {
     "name": "stdout",
     "output_type": "stream",
     "text": [
      "[1 1 1 ... 0 0 1]\n",
      "0.6568042300066979\n",
      "Accuracy of logistic regression classifier on test set: 0.67\n",
      "[[23568 38397]\n",
      " [13682 81936]]\n"
     ]
    }
   ],
   "source": [
    "import lightgbm as lgb \n",
    "from sklearn.metrics import mean_squared_error,roc_auc_score\n",
    "gbm=lgb.LGBMClassifier(learning_rate=0.09,max_depth=5,random_state=42)\n",
    "gbm.fit(x_train,y_train)\n",
    "Yhat_gbm=gbm.predict(x_test)\n",
    "print(Yhat_gbm.round(0))\n",
    "#converting from float to integer\n",
    "Yhat_gbm=Yhat_gbm.astype(int)\n",
    "#roc_auc_score metric\n",
    "print(roc_auc_score(Yhat_gbm,y_test))\n",
    "print('Accuracy of logistic regression classifier on test set: {:.2f}'.format(gbm.score(x_test,y_test)))\n",
    "from sklearn.metrics import confusion_matrix\n",
    "confusion_matrix = confusion_matrix(y_test, Yhat_gbm)\n",
    "print(confusion_matrix)"
   ]
  },
  {
   "cell_type": "code",
   "execution_count": 79,
   "id": "868ac459",
   "metadata": {},
   "outputs": [
    {
     "data": {
      "image/png": "[encoded data removed]",
      "text/plain": [
       "<Figure size 432x288 with 1 Axes>"
      ]
     },
     "metadata": {
      "needs_background": "light"
     },
     "output_type": "display_data"
    }
   ],
   "source": [
    "#define metrics\n",
    "#y_pred_proba = lgb.predict(x_test)[::,1]\n",
    "fpr, tpr, _ = metrics.roc_curve(y_test,  Yhat_gbm)\n",
    "\n",
    "#create ROC curve\n",
    "plt.plot(fpr,tpr)\n",
    "plt.plot([[0,0],[1,1]])\n",
    "plt.title(\"Light GBM ROC Curve\")\n",
    "plt.ylabel('True Positive Rate')\n",
    "plt.xlabel('False Positive Rate')\n",
    "plt.show()"
   ]
  },
  {
   "cell_type": "markdown",
   "id": "04cfbb81",
   "metadata": {},
   "source": [
    "### CAT Boost"
   ]
  },
  {
   "cell_type": "code",
   "execution_count": 40,
   "id": "9689c548",
   "metadata": {
    "scrolled": true
   },
   "outputs": [
    {
     "name": "stdout",
     "output_type": "stream",
     "text": [
      "Learning rate set to 0.161566\n",
      "0:\tlearn: 0.6316854\ttotal: 190ms\tremaining: 3m 9s\n",
      "1:\tlearn: 0.6374808\ttotal: 354ms\tremaining: 2m 56s\n",
      "2:\tlearn: 0.6386389\ttotal: 539ms\tremaining: 2m 59s\n",
      "3:\tlearn: 0.6402841\ttotal: 731ms\tremaining: 3m 1s\n",
      "4:\tlearn: 0.6425702\ttotal: 911ms\tremaining: 3m 1s\n",
      "5:\tlearn: 0.6441043\ttotal: 1.1s\tremaining: 3m 2s\n",
      "6:\tlearn: 0.6449214\ttotal: 1.32s\tremaining: 3m 6s\n",
      "7:\tlearn: 0.6462207\ttotal: 1.5s\tremaining: 3m 5s\n",
      "8:\tlearn: 0.6474217\ttotal: 1.67s\tremaining: 3m 3s\n",
      "9:\tlearn: 0.6484196\ttotal: 1.85s\tremaining: 3m 3s\n",
      "10:\tlearn: 0.6490240\ttotal: 2.02s\tremaining: 3m 1s\n",
      "11:\tlearn: 0.6497681\ttotal: 2.18s\tremaining: 2m 59s\n",
      "12:\tlearn: 0.6505613\ttotal: 2.33s\tremaining: 2m 57s\n",
      "13:\tlearn: 0.6509611\ttotal: 2.49s\tremaining: 2m 55s\n",
      "14:\tlearn: 0.6516829\ttotal: 2.65s\tremaining: 2m 53s\n",
      "15:\tlearn: 0.6519526\ttotal: 2.8s\tremaining: 2m 52s\n",
      "16:\tlearn: 0.6526063\ttotal: 2.96s\tremaining: 2m 51s\n",
      "17:\tlearn: 0.6531235\ttotal: 3.17s\tremaining: 2m 53s\n",
      "18:\tlearn: 0.6535232\ttotal: 3.31s\tremaining: 2m 50s\n",
      "19:\tlearn: 0.6539897\ttotal: 3.47s\tremaining: 2m 50s\n",
      "20:\tlearn: 0.6544117\ttotal: 3.63s\tremaining: 2m 49s\n",
      "21:\tlearn: 0.6551113\ttotal: 3.79s\tremaining: 2m 48s\n",
      "22:\tlearn: 0.6555349\ttotal: 3.95s\tremaining: 2m 47s\n",
      "23:\tlearn: 0.6559236\ttotal: 4.09s\tremaining: 2m 46s\n",
      "24:\tlearn: 0.6565106\ttotal: 4.21s\tremaining: 2m 44s\n",
      "25:\tlearn: 0.6566661\ttotal: 4.35s\tremaining: 2m 43s\n",
      "26:\tlearn: 0.6569183\ttotal: 4.46s\tremaining: 2m 40s\n",
      "27:\tlearn: 0.6573292\ttotal: 4.6s\tremaining: 2m 39s\n",
      "28:\tlearn: 0.6577115\ttotal: 4.75s\tremaining: 2m 38s\n",
      "29:\tlearn: 0.6579067\ttotal: 4.9s\tremaining: 2m 38s\n",
      "30:\tlearn: 0.6583049\ttotal: 5s\tremaining: 2m 36s\n",
      "31:\tlearn: 0.6587094\ttotal: 5.13s\tremaining: 2m 35s\n",
      "32:\tlearn: 0.6593155\ttotal: 5.3s\tremaining: 2m 35s\n",
      "33:\tlearn: 0.6596930\ttotal: 5.46s\tremaining: 2m 35s\n",
      "34:\tlearn: 0.6599786\ttotal: 5.6s\tremaining: 2m 34s\n",
      "35:\tlearn: 0.6600992\ttotal: 5.75s\tremaining: 2m 33s\n",
      "36:\tlearn: 0.6605545\ttotal: 5.89s\tremaining: 2m 33s\n",
      "37:\tlearn: 0.6607687\ttotal: 6.03s\tremaining: 2m 32s\n",
      "38:\tlearn: 0.6610400\ttotal: 6.19s\tremaining: 2m 32s\n",
      "39:\tlearn: 0.6610701\ttotal: 6.32s\tremaining: 2m 31s\n",
      "40:\tlearn: 0.6613033\ttotal: 6.46s\tremaining: 2m 31s\n",
      "41:\tlearn: 0.6615286\ttotal: 6.59s\tremaining: 2m 30s\n",
      "42:\tlearn: 0.6615857\ttotal: 6.71s\tremaining: 2m 29s\n",
      "43:\tlearn: 0.6618903\ttotal: 6.87s\tremaining: 2m 29s\n",
      "44:\tlearn: 0.6620537\ttotal: 7s\tremaining: 2m 28s\n",
      "45:\tlearn: 0.6622552\ttotal: 7.11s\tremaining: 2m 27s\n",
      "46:\tlearn: 0.6624345\ttotal: 7.25s\tremaining: 2m 27s\n",
      "47:\tlearn: 0.6627851\ttotal: 7.38s\tremaining: 2m 26s\n",
      "48:\tlearn: 0.6628787\ttotal: 7.5s\tremaining: 2m 25s\n",
      "49:\tlearn: 0.6630992\ttotal: 7.63s\tremaining: 2m 24s\n",
      "50:\tlearn: 0.6631944\ttotal: 7.76s\tremaining: 2m 24s\n",
      "51:\tlearn: 0.6631992\ttotal: 7.89s\tremaining: 2m 23s\n",
      "52:\tlearn: 0.6633816\ttotal: 8.02s\tremaining: 2m 23s\n",
      "53:\tlearn: 0.6635117\ttotal: 8.18s\tremaining: 2m 23s\n",
      "54:\tlearn: 0.6635847\ttotal: 8.3s\tremaining: 2m 22s\n",
      "55:\tlearn: 0.6638655\ttotal: 8.42s\tremaining: 2m 22s\n",
      "56:\tlearn: 0.6641161\ttotal: 8.61s\tremaining: 2m 22s\n",
      "57:\tlearn: 0.6642954\ttotal: 8.79s\tremaining: 2m 22s\n",
      "58:\tlearn: 0.6644065\ttotal: 8.96s\tremaining: 2m 22s\n",
      "59:\tlearn: 0.6644747\ttotal: 9.08s\tremaining: 2m 22s\n",
      "60:\tlearn: 0.6645953\ttotal: 9.23s\tremaining: 2m 22s\n",
      "61:\tlearn: 0.6647650\ttotal: 9.39s\tremaining: 2m 22s\n",
      "62:\tlearn: 0.6647365\ttotal: 9.5s\tremaining: 2m 21s\n",
      "63:\tlearn: 0.6649046\ttotal: 9.66s\tremaining: 2m 21s\n",
      "64:\tlearn: 0.6649935\ttotal: 9.78s\tremaining: 2m 20s\n",
      "65:\tlearn: 0.6651410\ttotal: 9.93s\tremaining: 2m 20s\n",
      "66:\tlearn: 0.6652346\ttotal: 10.1s\tremaining: 2m 20s\n",
      "67:\tlearn: 0.6653615\ttotal: 10.2s\tremaining: 2m 19s\n",
      "68:\tlearn: 0.6654123\ttotal: 10.3s\tremaining: 2m 19s\n",
      "69:\tlearn: 0.6655471\ttotal: 10.5s\tremaining: 2m 18s\n",
      "70:\tlearn: 0.6656550\ttotal: 10.6s\tremaining: 2m 18s\n",
      "71:\tlearn: 0.6657581\ttotal: 10.8s\tremaining: 2m 18s\n",
      "72:\tlearn: 0.6657280\ttotal: 10.9s\tremaining: 2m 18s\n",
      "73:\tlearn: 0.6658438\ttotal: 11s\tremaining: 2m 17s\n",
      "74:\tlearn: 0.6661675\ttotal: 11.2s\tremaining: 2m 17s\n",
      "75:\tlearn: 0.6663769\ttotal: 11.3s\tremaining: 2m 17s\n",
      "76:\tlearn: 0.6664546\ttotal: 11.5s\tremaining: 2m 18s\n",
      "77:\tlearn: 0.6665561\ttotal: 11.7s\tremaining: 2m 17s\n",
      "78:\tlearn: 0.6666291\ttotal: 11.8s\tremaining: 2m 17s\n",
      "79:\tlearn: 0.6667894\ttotal: 12s\tremaining: 2m 17s\n",
      "80:\tlearn: 0.6668782\ttotal: 12.1s\tremaining: 2m 17s\n",
      "81:\tlearn: 0.6670353\ttotal: 12.2s\tremaining: 2m 17s\n",
      "82:\tlearn: 0.6672114\ttotal: 12.4s\tremaining: 2m 16s\n",
      "83:\tlearn: 0.6674144\ttotal: 12.5s\tremaining: 2m 16s\n",
      "84:\tlearn: 0.6674604\ttotal: 12.6s\tremaining: 2m 16s\n",
      "85:\tlearn: 0.6674271\ttotal: 12.8s\tremaining: 2m 15s\n",
      "86:\tlearn: 0.6674937\ttotal: 12.9s\tremaining: 2m 15s\n",
      "87:\tlearn: 0.6675620\ttotal: 13.1s\tremaining: 2m 15s\n",
      "88:\tlearn: 0.6677523\ttotal: 13.2s\tremaining: 2m 15s\n",
      "89:\tlearn: 0.6678348\ttotal: 13.4s\tremaining: 2m 15s\n",
      "90:\tlearn: 0.6680919\ttotal: 13.5s\tremaining: 2m 15s\n",
      "91:\tlearn: 0.6682235\ttotal: 13.7s\tremaining: 2m 15s\n",
      "92:\tlearn: 0.6684218\ttotal: 13.9s\tremaining: 2m 15s\n",
      "93:\tlearn: 0.6685361\ttotal: 14s\tremaining: 2m 15s\n",
      "94:\tlearn: 0.6686630\ttotal: 14.1s\tremaining: 2m 14s\n",
      "95:\tlearn: 0.6687026\ttotal: 14.3s\tremaining: 2m 14s\n",
      "96:\tlearn: 0.6689597\ttotal: 14.5s\tremaining: 2m 14s\n",
      "97:\tlearn: 0.6689946\ttotal: 14.6s\tremaining: 2m 14s\n",
      "98:\tlearn: 0.6690342\ttotal: 14.8s\tremaining: 2m 14s\n",
      "99:\tlearn: 0.6691992\ttotal: 14.9s\tremaining: 2m 14s\n",
      "100:\tlearn: 0.6692674\ttotal: 15s\tremaining: 2m 13s\n",
      "101:\tlearn: 0.6694991\ttotal: 15.2s\tremaining: 2m 13s\n",
      "102:\tlearn: 0.6696466\ttotal: 15.3s\tremaining: 2m 13s\n",
      "103:\tlearn: 0.6698211\ttotal: 15.5s\tremaining: 2m 13s\n",
      "104:\tlearn: 0.6698417\ttotal: 15.6s\tremaining: 2m 13s\n",
      "105:\tlearn: 0.6700036\ttotal: 15.8s\tremaining: 2m 13s\n",
      "106:\tlearn: 0.6700861\ttotal: 15.9s\tremaining: 2m 12s\n",
      "107:\tlearn: 0.6702019\ttotal: 16.1s\tremaining: 2m 12s\n",
      "108:\tlearn: 0.6703478\ttotal: 16.2s\tremaining: 2m 12s\n",
      "109:\tlearn: 0.6704462\ttotal: 16.3s\tremaining: 2m 12s\n",
      "110:\tlearn: 0.6705763\ttotal: 16.4s\tremaining: 2m 11s\n",
      "111:\tlearn: 0.6705493\ttotal: 16.6s\tremaining: 2m 11s\n",
      "112:\tlearn: 0.6706857\ttotal: 16.7s\tremaining: 2m 10s\n",
      "113:\tlearn: 0.6707587\ttotal: 16.8s\tremaining: 2m 10s\n",
      "114:\tlearn: 0.6708825\ttotal: 16.9s\tremaining: 2m 10s\n",
      "115:\tlearn: 0.6710030\ttotal: 17.1s\tremaining: 2m 10s\n",
      "116:\tlearn: 0.6711998\ttotal: 17.2s\tremaining: 2m 9s\n",
      "117:\tlearn: 0.6713473\ttotal: 17.4s\tremaining: 2m 10s\n",
      "118:\tlearn: 0.6714092\ttotal: 17.6s\tremaining: 2m 10s\n",
      "119:\tlearn: 0.6715266\ttotal: 17.8s\tremaining: 2m 10s\n",
      "120:\tlearn: 0.6716598\ttotal: 17.9s\tremaining: 2m 9s\n",
      "121:\tlearn: 0.6717074\ttotal: 18s\tremaining: 2m 9s\n",
      "122:\tlearn: 0.6717947\ttotal: 18.2s\tremaining: 2m 9s\n",
      "123:\tlearn: 0.6719486\ttotal: 18.3s\tremaining: 2m 9s\n",
      "124:\tlearn: 0.6720755\ttotal: 18.4s\tremaining: 2m 9s\n",
      "125:\tlearn: 0.6722246\ttotal: 18.6s\tremaining: 2m 8s\n",
      "126:\tlearn: 0.6723214\ttotal: 18.7s\tremaining: 2m 8s\n",
      "127:\tlearn: 0.6724531\ttotal: 18.8s\tremaining: 2m 8s\n",
      "128:\tlearn: 0.6724975\ttotal: 19s\tremaining: 2m 8s\n",
      "129:\tlearn: 0.6726323\ttotal: 19.2s\tremaining: 2m 8s\n",
      "130:\tlearn: 0.6726657\ttotal: 19.4s\tremaining: 2m 8s\n",
      "131:\tlearn: 0.6728307\ttotal: 19.5s\tremaining: 2m 8s\n",
      "132:\tlearn: 0.6729179\ttotal: 19.6s\tremaining: 2m 7s\n",
      "133:\tlearn: 0.6730797\ttotal: 19.8s\tremaining: 2m 7s\n",
      "134:\tlearn: 0.6731987\ttotal: 19.9s\tremaining: 2m 7s\n",
      "135:\tlearn: 0.6731924\ttotal: 20s\tremaining: 2m 7s\n",
      "136:\tlearn: 0.6733129\ttotal: 20.2s\tremaining: 2m 7s\n",
      "137:\tlearn: 0.6734224\ttotal: 20.3s\tremaining: 2m 6s\n",
      "138:\tlearn: 0.6735477\ttotal: 20.5s\tremaining: 2m 6s\n",
      "139:\tlearn: 0.6736398\ttotal: 20.6s\tremaining: 2m 6s\n",
      "140:\tlearn: 0.6736810\ttotal: 20.7s\tremaining: 2m 6s\n",
      "141:\tlearn: 0.6739396\ttotal: 20.9s\tremaining: 2m 6s\n",
      "142:\tlearn: 0.6739872\ttotal: 21s\tremaining: 2m 6s\n",
      "143:\tlearn: 0.6740443\ttotal: 21.2s\tremaining: 2m 5s\n",
      "144:\tlearn: 0.6742268\ttotal: 21.3s\tremaining: 2m 5s\n",
      "145:\tlearn: 0.6743108\ttotal: 21.5s\tremaining: 2m 5s\n",
      "146:\tlearn: 0.6743695\ttotal: 21.6s\tremaining: 2m 5s\n",
      "147:\tlearn: 0.6744552\ttotal: 21.8s\tremaining: 2m 5s\n",
      "148:\tlearn: 0.6744949\ttotal: 21.9s\tremaining: 2m 5s\n",
      "149:\tlearn: 0.6745789\ttotal: 22.1s\tremaining: 2m 5s\n",
      "150:\tlearn: 0.6747503\ttotal: 22.2s\tremaining: 2m 5s\n",
      "151:\tlearn: 0.6748598\ttotal: 22.4s\tremaining: 2m 4s\n",
      "152:\tlearn: 0.6749058\ttotal: 22.5s\tremaining: 2m 4s\n",
      "153:\tlearn: 0.6749883\ttotal: 22.6s\tremaining: 2m 4s\n",
      "154:\tlearn: 0.6750898\ttotal: 22.8s\tremaining: 2m 4s\n",
      "155:\tlearn: 0.6752516\ttotal: 23s\tremaining: 2m 4s\n",
      "156:\tlearn: 0.6753119\ttotal: 23.1s\tremaining: 2m 4s\n",
      "157:\tlearn: 0.6755261\ttotal: 23.3s\tremaining: 2m 3s\n",
      "158:\tlearn: 0.6755737\ttotal: 23.4s\tremaining: 2m 3s\n"
     ]
    },
    {
     "name": "stdout",
     "output_type": "stream",
     "text": [
      "159:\tlearn: 0.6756768\ttotal: 23.6s\tremaining: 2m 3s\n",
      "160:\tlearn: 0.6758275\ttotal: 23.7s\tremaining: 2m 3s\n",
      "161:\tlearn: 0.6759735\ttotal: 23.9s\tremaining: 2m 3s\n",
      "162:\tlearn: 0.6759766\ttotal: 24s\tremaining: 2m 3s\n",
      "163:\tlearn: 0.6760449\ttotal: 24.2s\tremaining: 2m 3s\n",
      "164:\tlearn: 0.6761369\ttotal: 24.3s\tremaining: 2m 3s\n",
      "165:\tlearn: 0.6762638\ttotal: 24.5s\tremaining: 2m 2s\n",
      "166:\tlearn: 0.6762797\ttotal: 24.6s\tremaining: 2m 2s\n",
      "167:\tlearn: 0.6763923\ttotal: 24.8s\tremaining: 2m 2s\n",
      "168:\tlearn: 0.6765097\ttotal: 24.9s\tremaining: 2m 2s\n",
      "169:\tlearn: 0.6765811\ttotal: 25.1s\tremaining: 2m 2s\n",
      "170:\tlearn: 0.6767905\ttotal: 25.2s\tremaining: 2m 2s\n",
      "171:\tlearn: 0.6769396\ttotal: 25.4s\tremaining: 2m 2s\n",
      "172:\tlearn: 0.6769618\ttotal: 25.5s\tremaining: 2m 2s\n",
      "173:\tlearn: 0.6770570\ttotal: 25.7s\tremaining: 2m 1s\n",
      "174:\tlearn: 0.6770935\ttotal: 25.9s\tremaining: 2m 1s\n",
      "175:\tlearn: 0.6772490\ttotal: 26s\tremaining: 2m 1s\n",
      "176:\tlearn: 0.6772601\ttotal: 26.2s\tremaining: 2m 1s\n",
      "177:\tlearn: 0.6772855\ttotal: 26.4s\tremaining: 2m 1s\n",
      "178:\tlearn: 0.6773997\ttotal: 26.5s\tremaining: 2m 1s\n",
      "179:\tlearn: 0.6775710\ttotal: 26.6s\tremaining: 2m 1s\n",
      "180:\tlearn: 0.6776234\ttotal: 26.8s\tremaining: 2m 1s\n",
      "181:\tlearn: 0.6777694\ttotal: 27s\tremaining: 2m 1s\n",
      "182:\tlearn: 0.6778804\ttotal: 27.1s\tremaining: 2m 1s\n",
      "183:\tlearn: 0.6779090\ttotal: 27.2s\tremaining: 2m\n",
      "184:\tlearn: 0.6781089\ttotal: 27.4s\tremaining: 2m\n",
      "185:\tlearn: 0.6781866\ttotal: 27.5s\tremaining: 2m\n",
      "186:\tlearn: 0.6783357\ttotal: 27.7s\tremaining: 2m\n",
      "187:\tlearn: 0.6783722\ttotal: 27.8s\tremaining: 2m\n",
      "188:\tlearn: 0.6784373\ttotal: 28s\tremaining: 2m\n",
      "189:\tlearn: 0.6785086\ttotal: 28.1s\tremaining: 1m 59s\n",
      "190:\tlearn: 0.6785959\ttotal: 28.2s\tremaining: 1m 59s\n",
      "191:\tlearn: 0.6787530\ttotal: 28.4s\tremaining: 1m 59s\n",
      "192:\tlearn: 0.6787609\ttotal: 28.5s\tremaining: 1m 59s\n",
      "193:\tlearn: 0.6787466\ttotal: 28.7s\tremaining: 1m 59s\n",
      "194:\tlearn: 0.6788973\ttotal: 28.9s\tremaining: 1m 59s\n",
      "195:\tlearn: 0.6790290\ttotal: 29s\tremaining: 1m 58s\n",
      "196:\tlearn: 0.6790655\ttotal: 29.1s\tremaining: 1m 58s\n",
      "197:\tlearn: 0.6791147\ttotal: 29.3s\tremaining: 1m 58s\n",
      "198:\tlearn: 0.6791702\ttotal: 29.5s\tremaining: 1m 58s\n",
      "199:\tlearn: 0.6792686\ttotal: 29.6s\tremaining: 1m 58s\n",
      "200:\tlearn: 0.6794526\ttotal: 29.8s\tremaining: 1m 58s\n",
      "201:\tlearn: 0.6795684\ttotal: 29.9s\tremaining: 1m 58s\n",
      "202:\tlearn: 0.6796017\ttotal: 30.1s\tremaining: 1m 58s\n",
      "203:\tlearn: 0.6797080\ttotal: 30.2s\tremaining: 1m 57s\n",
      "204:\tlearn: 0.6797762\ttotal: 30.4s\tremaining: 1m 57s\n",
      "205:\tlearn: 0.6798413\ttotal: 30.5s\tremaining: 1m 57s\n",
      "206:\tlearn: 0.6799143\ttotal: 30.6s\tremaining: 1m 57s\n",
      "207:\tlearn: 0.6800904\ttotal: 30.8s\tremaining: 1m 57s\n",
      "208:\tlearn: 0.6801253\ttotal: 31s\tremaining: 1m 57s\n",
      "209:\tlearn: 0.6801967\ttotal: 31.2s\tremaining: 1m 57s\n",
      "210:\tlearn: 0.6802839\ttotal: 31.3s\tremaining: 1m 57s\n",
      "211:\tlearn: 0.6803236\ttotal: 31.4s\tremaining: 1m 56s\n",
      "212:\tlearn: 0.6804949\ttotal: 31.6s\tremaining: 1m 56s\n",
      "213:\tlearn: 0.6805615\ttotal: 31.7s\tremaining: 1m 56s\n",
      "214:\tlearn: 0.6806599\ttotal: 31.9s\tremaining: 1m 56s\n",
      "215:\tlearn: 0.6807107\ttotal: 32s\tremaining: 1m 56s\n",
      "216:\tlearn: 0.6807821\ttotal: 32.2s\tremaining: 1m 56s\n",
      "217:\tlearn: 0.6808773\ttotal: 32.3s\tremaining: 1m 55s\n",
      "218:\tlearn: 0.6810185\ttotal: 32.5s\tremaining: 1m 55s\n",
      "219:\tlearn: 0.6810121\ttotal: 32.6s\tremaining: 1m 55s\n",
      "220:\tlearn: 0.6810375\ttotal: 32.8s\tremaining: 1m 55s\n",
      "221:\tlearn: 0.6811723\ttotal: 33s\tremaining: 1m 55s\n",
      "222:\tlearn: 0.6813120\ttotal: 33.1s\tremaining: 1m 55s\n",
      "223:\tlearn: 0.6814611\ttotal: 33.2s\tremaining: 1m 55s\n",
      "224:\tlearn: 0.6815261\ttotal: 33.4s\tremaining: 1m 54s\n",
      "225:\tlearn: 0.6816848\ttotal: 33.5s\tremaining: 1m 54s\n",
      "226:\tlearn: 0.6817355\ttotal: 33.7s\tremaining: 1m 54s\n",
      "227:\tlearn: 0.6819465\ttotal: 33.9s\tremaining: 1m 54s\n",
      "228:\tlearn: 0.6820862\ttotal: 34s\tremaining: 1m 54s\n",
      "229:\tlearn: 0.6821464\ttotal: 34.2s\tremaining: 1m 54s\n",
      "230:\tlearn: 0.6821782\ttotal: 34.3s\tremaining: 1m 54s\n",
      "231:\tlearn: 0.6821560\ttotal: 34.5s\tremaining: 1m 54s\n",
      "232:\tlearn: 0.6822178\ttotal: 34.6s\tremaining: 1m 54s\n",
      "233:\tlearn: 0.6823098\ttotal: 34.8s\tremaining: 1m 53s\n",
      "234:\tlearn: 0.6823796\ttotal: 35s\tremaining: 1m 53s\n",
      "235:\tlearn: 0.6825193\ttotal: 35.2s\tremaining: 1m 53s\n",
      "236:\tlearn: 0.6825922\ttotal: 35.3s\tremaining: 1m 53s\n",
      "237:\tlearn: 0.6826478\ttotal: 35.5s\tremaining: 1m 53s\n",
      "238:\tlearn: 0.6826541\ttotal: 35.6s\tremaining: 1m 53s\n",
      "239:\tlearn: 0.6827810\ttotal: 35.8s\tremaining: 1m 53s\n",
      "240:\tlearn: 0.6828175\ttotal: 35.9s\tremaining: 1m 53s\n",
      "241:\tlearn: 0.6828318\ttotal: 36.1s\tremaining: 1m 53s\n",
      "242:\tlearn: 0.6829016\ttotal: 36.3s\tremaining: 1m 53s\n",
      "243:\tlearn: 0.6830444\ttotal: 36.5s\tremaining: 1m 53s\n",
      "244:\tlearn: 0.6831412\ttotal: 36.6s\tremaining: 1m 52s\n",
      "245:\tlearn: 0.6832490\ttotal: 36.8s\tremaining: 1m 52s\n",
      "246:\tlearn: 0.6833062\ttotal: 36.9s\tremaining: 1m 52s\n",
      "247:\tlearn: 0.6834029\ttotal: 37s\tremaining: 1m 52s\n",
      "248:\tlearn: 0.6833522\ttotal: 37.2s\tremaining: 1m 52s\n",
      "249:\tlearn: 0.6834537\ttotal: 37.4s\tremaining: 1m 52s\n",
      "250:\tlearn: 0.6835917\ttotal: 37.5s\tremaining: 1m 51s\n",
      "251:\tlearn: 0.6838027\ttotal: 37.7s\tremaining: 1m 51s\n",
      "252:\tlearn: 0.6837805\ttotal: 37.8s\tremaining: 1m 51s\n",
      "253:\tlearn: 0.6838725\ttotal: 37.9s\tremaining: 1m 51s\n",
      "254:\tlearn: 0.6840185\ttotal: 38.1s\tremaining: 1m 51s\n",
      "255:\tlearn: 0.6841089\ttotal: 38.2s\tremaining: 1m 51s\n",
      "256:\tlearn: 0.6841517\ttotal: 38.4s\tremaining: 1m 50s\n",
      "257:\tlearn: 0.6842485\ttotal: 38.5s\tremaining: 1m 50s\n",
      "258:\tlearn: 0.6844056\ttotal: 38.7s\tremaining: 1m 50s\n",
      "259:\tlearn: 0.6845087\ttotal: 38.8s\tremaining: 1m 50s\n",
      "260:\tlearn: 0.6845960\ttotal: 39s\tremaining: 1m 50s\n",
      "261:\tlearn: 0.6846769\ttotal: 39.1s\tremaining: 1m 50s\n",
      "262:\tlearn: 0.6847879\ttotal: 39.3s\tremaining: 1m 50s\n",
      "263:\tlearn: 0.6848212\ttotal: 39.5s\tremaining: 1m 50s\n",
      "264:\tlearn: 0.6848990\ttotal: 39.6s\tremaining: 1m 49s\n",
      "265:\tlearn: 0.6850275\ttotal: 39.8s\tremaining: 1m 49s\n",
      "266:\tlearn: 0.6851449\ttotal: 39.9s\tremaining: 1m 49s\n",
      "267:\tlearn: 0.6852099\ttotal: 40.1s\tremaining: 1m 49s\n",
      "268:\tlearn: 0.6852766\ttotal: 40.3s\tremaining: 1m 49s\n",
      "269:\tlearn: 0.6853479\ttotal: 40.4s\tremaining: 1m 49s\n",
      "270:\tlearn: 0.6854431\ttotal: 40.6s\tremaining: 1m 49s\n",
      "271:\tlearn: 0.6854368\ttotal: 40.7s\tremaining: 1m 48s\n",
      "272:\tlearn: 0.6855240\ttotal: 40.8s\tremaining: 1m 48s\n",
      "273:\tlearn: 0.6855447\ttotal: 40.9s\tremaining: 1m 48s\n",
      "274:\tlearn: 0.6856129\ttotal: 41.1s\tremaining: 1m 48s\n",
      "275:\tlearn: 0.6857112\ttotal: 41.3s\tremaining: 1m 48s\n",
      "276:\tlearn: 0.6858429\ttotal: 41.5s\tremaining: 1m 48s\n",
      "277:\tlearn: 0.6858858\ttotal: 41.6s\tremaining: 1m 48s\n",
      "278:\tlearn: 0.6859048\ttotal: 41.8s\tremaining: 1m 48s\n",
      "279:\tlearn: 0.6859651\ttotal: 42.1s\tremaining: 1m 48s\n",
      "280:\tlearn: 0.6860587\ttotal: 42.2s\tremaining: 1m 47s\n",
      "281:\tlearn: 0.6860936\ttotal: 42.4s\tremaining: 1m 47s\n",
      "282:\tlearn: 0.6861602\ttotal: 42.5s\tremaining: 1m 47s\n",
      "283:\tlearn: 0.6863665\ttotal: 42.7s\tremaining: 1m 47s\n",
      "284:\tlearn: 0.6864775\ttotal: 42.8s\tremaining: 1m 47s\n",
      "285:\tlearn: 0.6865886\ttotal: 43s\tremaining: 1m 47s\n",
      "286:\tlearn: 0.6866346\ttotal: 43.2s\tremaining: 1m 47s\n",
      "287:\tlearn: 0.6868043\ttotal: 43.4s\tremaining: 1m 47s\n",
      "288:\tlearn: 0.6869376\ttotal: 43.5s\tremaining: 1m 47s\n",
      "289:\tlearn: 0.6869408\ttotal: 43.7s\tremaining: 1m 47s\n",
      "290:\tlearn: 0.6870153\ttotal: 43.9s\tremaining: 1m 46s\n",
      "291:\tlearn: 0.6870518\ttotal: 44.1s\tremaining: 1m 46s\n",
      "292:\tlearn: 0.6871962\ttotal: 44.2s\tremaining: 1m 46s\n",
      "293:\tlearn: 0.6872295\ttotal: 44.4s\tremaining: 1m 46s\n",
      "294:\tlearn: 0.6872787\ttotal: 44.5s\tremaining: 1m 46s\n",
      "295:\tlearn: 0.6874104\ttotal: 44.7s\tremaining: 1m 46s\n",
      "296:\tlearn: 0.6875103\ttotal: 44.8s\tremaining: 1m 46s\n",
      "297:\tlearn: 0.6875817\ttotal: 45s\tremaining: 1m 46s\n",
      "298:\tlearn: 0.6876103\ttotal: 45.1s\tremaining: 1m 45s\n",
      "299:\tlearn: 0.6876388\ttotal: 45.3s\tremaining: 1m 45s\n",
      "300:\tlearn: 0.6877673\ttotal: 45.5s\tremaining: 1m 45s\n",
      "301:\tlearn: 0.6877895\ttotal: 45.7s\tremaining: 1m 45s\n",
      "302:\tlearn: 0.6879577\ttotal: 45.8s\tremaining: 1m 45s\n",
      "303:\tlearn: 0.6879894\ttotal: 46s\tremaining: 1m 45s\n",
      "304:\tlearn: 0.6880973\ttotal: 46.2s\tremaining: 1m 45s\n",
      "305:\tlearn: 0.6881100\ttotal: 46.4s\tremaining: 1m 45s\n",
      "306:\tlearn: 0.6882195\ttotal: 46.5s\tremaining: 1m 45s\n",
      "307:\tlearn: 0.6882782\ttotal: 46.7s\tremaining: 1m 44s\n",
      "308:\tlearn: 0.6883273\ttotal: 46.8s\tremaining: 1m 44s\n",
      "309:\tlearn: 0.6884432\ttotal: 47s\tremaining: 1m 44s\n",
      "310:\tlearn: 0.6885209\ttotal: 47.1s\tremaining: 1m 44s\n",
      "311:\tlearn: 0.6885955\ttotal: 47.3s\tremaining: 1m 44s\n",
      "312:\tlearn: 0.6885939\ttotal: 47.5s\tremaining: 1m 44s\n",
      "313:\tlearn: 0.6886399\ttotal: 47.6s\tremaining: 1m 44s\n",
      "314:\tlearn: 0.6886859\ttotal: 47.8s\tremaining: 1m 43s\n",
      "315:\tlearn: 0.6887700\ttotal: 47.9s\tremaining: 1m 43s\n",
      "316:\tlearn: 0.6888763\ttotal: 48.1s\tremaining: 1m 43s\n"
     ]
    },
    {
     "name": "stdout",
     "output_type": "stream",
     "text": [
      "317:\tlearn: 0.6890095\ttotal: 48.2s\tremaining: 1m 43s\n",
      "318:\tlearn: 0.6890920\ttotal: 48.4s\tremaining: 1m 43s\n",
      "319:\tlearn: 0.6891269\ttotal: 48.5s\tremaining: 1m 43s\n",
      "320:\tlearn: 0.6892205\ttotal: 48.7s\tremaining: 1m 43s\n",
      "321:\tlearn: 0.6893427\ttotal: 48.9s\tremaining: 1m 42s\n",
      "322:\tlearn: 0.6893205\ttotal: 49s\tremaining: 1m 42s\n",
      "323:\tlearn: 0.6894030\ttotal: 49.2s\tremaining: 1m 42s\n",
      "324:\tlearn: 0.6894490\ttotal: 49.3s\tremaining: 1m 42s\n",
      "325:\tlearn: 0.6895172\ttotal: 49.5s\tremaining: 1m 42s\n",
      "326:\tlearn: 0.6896029\ttotal: 49.7s\tremaining: 1m 42s\n",
      "327:\tlearn: 0.6896870\ttotal: 49.8s\tremaining: 1m 42s\n",
      "328:\tlearn: 0.6897631\ttotal: 49.9s\tremaining: 1m 41s\n",
      "329:\tlearn: 0.6899598\ttotal: 50.1s\tremaining: 1m 41s\n",
      "330:\tlearn: 0.6900550\ttotal: 50.3s\tremaining: 1m 41s\n",
      "331:\tlearn: 0.6900645\ttotal: 50.4s\tremaining: 1m 41s\n",
      "332:\tlearn: 0.6901185\ttotal: 50.5s\tremaining: 1m 41s\n",
      "333:\tlearn: 0.6901296\ttotal: 50.7s\tremaining: 1m 41s\n",
      "334:\tlearn: 0.6902391\ttotal: 50.9s\tremaining: 1m 40s\n",
      "335:\tlearn: 0.6903041\ttotal: 51s\tremaining: 1m 40s\n",
      "336:\tlearn: 0.6903422\ttotal: 51.2s\tremaining: 1m 40s\n",
      "337:\tlearn: 0.6903295\ttotal: 51.3s\tremaining: 1m 40s\n",
      "338:\tlearn: 0.6904294\ttotal: 51.5s\tremaining: 1m 40s\n",
      "339:\tlearn: 0.6904612\ttotal: 51.6s\tremaining: 1m 40s\n",
      "340:\tlearn: 0.6905103\ttotal: 51.8s\tremaining: 1m 40s\n",
      "341:\tlearn: 0.6905786\ttotal: 52s\tremaining: 1m 39s\n",
      "342:\tlearn: 0.6906928\ttotal: 52.1s\tremaining: 1m 39s\n",
      "343:\tlearn: 0.6907721\ttotal: 52.3s\tremaining: 1m 39s\n",
      "344:\tlearn: 0.6908102\ttotal: 52.4s\tremaining: 1m 39s\n",
      "345:\tlearn: 0.6908641\ttotal: 52.6s\tremaining: 1m 39s\n",
      "346:\tlearn: 0.6909181\ttotal: 52.7s\tremaining: 1m 39s\n",
      "347:\tlearn: 0.6908959\ttotal: 52.9s\tremaining: 1m 39s\n",
      "348:\tlearn: 0.6909371\ttotal: 53.1s\tremaining: 1m 39s\n",
      "349:\tlearn: 0.6910212\ttotal: 53.2s\tremaining: 1m 38s\n",
      "350:\tlearn: 0.6910831\ttotal: 53.4s\tremaining: 1m 38s\n",
      "351:\tlearn: 0.6910450\ttotal: 53.6s\tremaining: 1m 38s\n",
      "352:\tlearn: 0.6912322\ttotal: 53.7s\tremaining: 1m 38s\n",
      "353:\tlearn: 0.6912845\ttotal: 53.9s\tremaining: 1m 38s\n",
      "354:\tlearn: 0.6913829\ttotal: 54s\tremaining: 1m 38s\n",
      "355:\tlearn: 0.6914638\ttotal: 54.2s\tremaining: 1m 37s\n",
      "356:\tlearn: 0.6916193\ttotal: 54.3s\tremaining: 1m 37s\n",
      "357:\tlearn: 0.6916399\ttotal: 54.5s\tremaining: 1m 37s\n",
      "358:\tlearn: 0.6917319\ttotal: 54.6s\tremaining: 1m 37s\n",
      "359:\tlearn: 0.6917811\ttotal: 54.7s\tremaining: 1m 37s\n",
      "360:\tlearn: 0.6919017\ttotal: 54.9s\tremaining: 1m 37s\n",
      "361:\tlearn: 0.6919493\ttotal: 55s\tremaining: 1m 37s\n",
      "362:\tlearn: 0.6920397\ttotal: 55.2s\tremaining: 1m 36s\n",
      "363:\tlearn: 0.6921270\ttotal: 55.4s\tremaining: 1m 36s\n",
      "364:\tlearn: 0.6921809\ttotal: 55.5s\tremaining: 1m 36s\n",
      "365:\tlearn: 0.6921872\ttotal: 55.6s\tremaining: 1m 36s\n",
      "366:\tlearn: 0.6922729\ttotal: 55.8s\tremaining: 1m 36s\n",
      "367:\tlearn: 0.6923887\ttotal: 55.9s\tremaining: 1m 36s\n",
      "368:\tlearn: 0.6924554\ttotal: 56.1s\tremaining: 1m 35s\n",
      "369:\tlearn: 0.6924760\ttotal: 56.2s\tremaining: 1m 35s\n",
      "370:\tlearn: 0.6925759\ttotal: 56.3s\tremaining: 1m 35s\n",
      "371:\tlearn: 0.6926092\ttotal: 56.5s\tremaining: 1m 35s\n",
      "372:\tlearn: 0.6926775\ttotal: 56.6s\tremaining: 1m 35s\n",
      "373:\tlearn: 0.6926965\ttotal: 56.7s\tremaining: 1m 34s\n",
      "374:\tlearn: 0.6926822\ttotal: 56.9s\tremaining: 1m 34s\n",
      "375:\tlearn: 0.6928551\ttotal: 57.1s\tremaining: 1m 34s\n",
      "376:\tlearn: 0.6928678\ttotal: 57.2s\tremaining: 1m 34s\n",
      "377:\tlearn: 0.6929599\ttotal: 57.4s\tremaining: 1m 34s\n",
      "378:\tlearn: 0.6930757\ttotal: 57.5s\tremaining: 1m 34s\n",
      "379:\tlearn: 0.6932121\ttotal: 57.7s\tremaining: 1m 34s\n",
      "380:\tlearn: 0.6933009\ttotal: 57.8s\tremaining: 1m 33s\n",
      "381:\tlearn: 0.6934548\ttotal: 58s\tremaining: 1m 33s\n",
      "382:\tlearn: 0.6934945\ttotal: 58.1s\tremaining: 1m 33s\n",
      "383:\tlearn: 0.6935818\ttotal: 58.2s\tremaining: 1m 33s\n",
      "384:\tlearn: 0.6936944\ttotal: 58.4s\tremaining: 1m 33s\n",
      "385:\tlearn: 0.6937230\ttotal: 58.6s\tremaining: 1m 33s\n",
      "386:\tlearn: 0.6938340\ttotal: 58.7s\tremaining: 1m 33s\n",
      "387:\tlearn: 0.6939117\ttotal: 58.9s\tremaining: 1m 32s\n",
      "388:\tlearn: 0.6938324\ttotal: 59s\tremaining: 1m 32s\n",
      "389:\tlearn: 0.6939149\ttotal: 59.2s\tremaining: 1m 32s\n",
      "390:\tlearn: 0.6939228\ttotal: 59.3s\tremaining: 1m 32s\n",
      "391:\tlearn: 0.6939657\ttotal: 59.5s\tremaining: 1m 32s\n",
      "392:\tlearn: 0.6940291\ttotal: 59.6s\tremaining: 1m 32s\n",
      "393:\tlearn: 0.6940989\ttotal: 59.8s\tremaining: 1m 31s\n",
      "394:\tlearn: 0.6940736\ttotal: 59.9s\tremaining: 1m 31s\n",
      "395:\tlearn: 0.6942290\ttotal: 1m\tremaining: 1m 31s\n",
      "396:\tlearn: 0.6943147\ttotal: 1m\tremaining: 1m 31s\n",
      "397:\tlearn: 0.6942893\ttotal: 1m\tremaining: 1m 31s\n",
      "398:\tlearn: 0.6943575\ttotal: 1m\tremaining: 1m 31s\n",
      "399:\tlearn: 0.6944924\ttotal: 1m\tremaining: 1m 31s\n",
      "400:\tlearn: 0.6945590\ttotal: 1m\tremaining: 1m 30s\n",
      "401:\tlearn: 0.6947097\ttotal: 1m 1s\tremaining: 1m 30s\n",
      "402:\tlearn: 0.6946495\ttotal: 1m 1s\tremaining: 1m 30s\n",
      "403:\tlearn: 0.6947351\ttotal: 1m 1s\tremaining: 1m 30s\n",
      "404:\tlearn: 0.6948271\ttotal: 1m 1s\tremaining: 1m 30s\n",
      "405:\tlearn: 0.6949017\ttotal: 1m 1s\tremaining: 1m 30s\n",
      "406:\tlearn: 0.6950048\ttotal: 1m 1s\tremaining: 1m 30s\n",
      "407:\tlearn: 0.6950905\ttotal: 1m 1s\tremaining: 1m 29s\n",
      "408:\tlearn: 0.6951397\ttotal: 1m 2s\tremaining: 1m 29s\n",
      "409:\tlearn: 0.6951714\ttotal: 1m 2s\tremaining: 1m 29s\n",
      "410:\tlearn: 0.6952015\ttotal: 1m 2s\tremaining: 1m 29s\n",
      "411:\tlearn: 0.6952317\ttotal: 1m 2s\tremaining: 1m 29s\n",
      "412:\tlearn: 0.6953221\ttotal: 1m 2s\tremaining: 1m 29s\n",
      "413:\tlearn: 0.6953078\ttotal: 1m 2s\tremaining: 1m 29s\n",
      "414:\tlearn: 0.6953808\ttotal: 1m 3s\tremaining: 1m 28s\n",
      "415:\tlearn: 0.6954332\ttotal: 1m 3s\tremaining: 1m 28s\n",
      "416:\tlearn: 0.6954570\ttotal: 1m 3s\tremaining: 1m 28s\n",
      "417:\tlearn: 0.6955712\ttotal: 1m 3s\tremaining: 1m 28s\n",
      "418:\tlearn: 0.6956013\ttotal: 1m 3s\tremaining: 1m 28s\n",
      "419:\tlearn: 0.6956093\ttotal: 1m 3s\tremaining: 1m 28s\n",
      "420:\tlearn: 0.6956616\ttotal: 1m 4s\tremaining: 1m 28s\n",
      "421:\tlearn: 0.6957140\ttotal: 1m 4s\tremaining: 1m 27s\n",
      "422:\tlearn: 0.6958377\ttotal: 1m 4s\tremaining: 1m 27s\n",
      "423:\tlearn: 0.6958330\ttotal: 1m 4s\tremaining: 1m 27s\n",
      "424:\tlearn: 0.6958869\ttotal: 1m 4s\tremaining: 1m 27s\n",
      "425:\tlearn: 0.6959377\ttotal: 1m 4s\tremaining: 1m 27s\n",
      "426:\tlearn: 0.6959408\ttotal: 1m 5s\tremaining: 1m 27s\n",
      "427:\tlearn: 0.6960551\ttotal: 1m 5s\tremaining: 1m 27s\n",
      "428:\tlearn: 0.6961550\ttotal: 1m 5s\tremaining: 1m 27s\n",
      "429:\tlearn: 0.6962534\ttotal: 1m 5s\tremaining: 1m 26s\n",
      "430:\tlearn: 0.6963613\ttotal: 1m 5s\tremaining: 1m 26s\n",
      "431:\tlearn: 0.6963454\ttotal: 1m 5s\tremaining: 1m 26s\n",
      "432:\tlearn: 0.6964691\ttotal: 1m 6s\tremaining: 1m 26s\n",
      "433:\tlearn: 0.6964787\ttotal: 1m 6s\tremaining: 1m 26s\n",
      "434:\tlearn: 0.6965072\ttotal: 1m 6s\tremaining: 1m 26s\n",
      "435:\tlearn: 0.6966452\ttotal: 1m 6s\tremaining: 1m 26s\n",
      "436:\tlearn: 0.6966992\ttotal: 1m 6s\tremaining: 1m 26s\n",
      "437:\tlearn: 0.6967436\ttotal: 1m 6s\tremaining: 1m 25s\n",
      "438:\tlearn: 0.6968927\ttotal: 1m 7s\tremaining: 1m 25s\n",
      "439:\tlearn: 0.6969816\ttotal: 1m 7s\tremaining: 1m 25s\n",
      "440:\tlearn: 0.6970006\ttotal: 1m 7s\tremaining: 1m 25s\n",
      "441:\tlearn: 0.6971259\ttotal: 1m 7s\tremaining: 1m 25s\n",
      "442:\tlearn: 0.6971719\ttotal: 1m 7s\tremaining: 1m 25s\n",
      "443:\tlearn: 0.6972291\ttotal: 1m 7s\tremaining: 1m 25s\n",
      "444:\tlearn: 0.6972973\ttotal: 1m 8s\tremaining: 1m 24s\n",
      "445:\tlearn: 0.6973528\ttotal: 1m 8s\tremaining: 1m 24s\n",
      "446:\tlearn: 0.6973782\ttotal: 1m 8s\tremaining: 1m 24s\n",
      "447:\tlearn: 0.6973734\ttotal: 1m 8s\tremaining: 1m 24s\n",
      "448:\tlearn: 0.6974210\ttotal: 1m 8s\tremaining: 1m 24s\n",
      "449:\tlearn: 0.6975828\ttotal: 1m 8s\tremaining: 1m 24s\n",
      "450:\tlearn: 0.6976035\ttotal: 1m 8s\tremaining: 1m 23s\n",
      "451:\tlearn: 0.6977145\ttotal: 1m 9s\tremaining: 1m 23s\n",
      "452:\tlearn: 0.6977732\ttotal: 1m 9s\tremaining: 1m 23s\n",
      "453:\tlearn: 0.6978208\ttotal: 1m 9s\tremaining: 1m 23s\n",
      "454:\tlearn: 0.6979065\ttotal: 1m 9s\tremaining: 1m 23s\n",
      "455:\tlearn: 0.6980080\ttotal: 1m 9s\tremaining: 1m 23s\n",
      "456:\tlearn: 0.6981635\ttotal: 1m 9s\tremaining: 1m 23s\n",
      "457:\tlearn: 0.6982619\ttotal: 1m 10s\tremaining: 1m 23s\n",
      "458:\tlearn: 0.6982111\ttotal: 1m 10s\tremaining: 1m 22s\n",
      "459:\tlearn: 0.6982682\ttotal: 1m 10s\tremaining: 1m 22s\n",
      "460:\tlearn: 0.6983729\ttotal: 1m 10s\tremaining: 1m 22s\n",
      "461:\tlearn: 0.6983729\ttotal: 1m 10s\tremaining: 1m 22s\n",
      "462:\tlearn: 0.6984903\ttotal: 1m 10s\tremaining: 1m 22s\n",
      "463:\tlearn: 0.6985617\ttotal: 1m 11s\tremaining: 1m 22s\n",
      "464:\tlearn: 0.6985934\ttotal: 1m 11s\tremaining: 1m 21s\n",
      "465:\tlearn: 0.6986728\ttotal: 1m 11s\tremaining: 1m 21s\n",
      "466:\tlearn: 0.6987568\ttotal: 1m 11s\tremaining: 1m 21s\n",
      "467:\tlearn: 0.6987997\ttotal: 1m 11s\tremaining: 1m 21s\n",
      "468:\tlearn: 0.6988711\ttotal: 1m 11s\tremaining: 1m 21s\n",
      "469:\tlearn: 0.6989266\ttotal: 1m 12s\tremaining: 1m 21s\n",
      "470:\tlearn: 0.6989520\ttotal: 1m 12s\tremaining: 1m 21s\n",
      "471:\tlearn: 0.6990678\ttotal: 1m 12s\tremaining: 1m 21s\n"
     ]
    },
    {
     "name": "stdout",
     "output_type": "stream",
     "text": [
      "472:\tlearn: 0.6990789\ttotal: 1m 12s\tremaining: 1m 21s\n",
      "473:\tlearn: 0.6990900\ttotal: 1m 13s\tremaining: 1m 21s\n",
      "474:\tlearn: 0.6991535\ttotal: 1m 13s\tremaining: 1m 20s\n",
      "475:\tlearn: 0.6991899\ttotal: 1m 13s\tremaining: 1m 20s\n",
      "476:\tlearn: 0.6993470\ttotal: 1m 13s\tremaining: 1m 20s\n",
      "477:\tlearn: 0.6993565\ttotal: 1m 13s\tremaining: 1m 20s\n",
      "478:\tlearn: 0.6994581\ttotal: 1m 14s\tremaining: 1m 20s\n",
      "479:\tlearn: 0.6995088\ttotal: 1m 14s\tremaining: 1m 20s\n",
      "480:\tlearn: 0.6996484\ttotal: 1m 14s\tremaining: 1m 20s\n",
      "481:\tlearn: 0.6997547\ttotal: 1m 14s\tremaining: 1m 20s\n",
      "482:\tlearn: 0.6997912\ttotal: 1m 14s\tremaining: 1m 20s\n",
      "483:\tlearn: 0.6998388\ttotal: 1m 14s\tremaining: 1m 19s\n",
      "484:\tlearn: 0.6998864\ttotal: 1m 15s\tremaining: 1m 19s\n",
      "485:\tlearn: 0.6999562\ttotal: 1m 15s\tremaining: 1m 19s\n",
      "486:\tlearn: 0.7000863\ttotal: 1m 15s\tremaining: 1m 19s\n",
      "487:\tlearn: 0.7001069\ttotal: 1m 15s\tremaining: 1m 19s\n",
      "488:\tlearn: 0.7001656\ttotal: 1m 15s\tremaining: 1m 19s\n",
      "489:\tlearn: 0.7002196\ttotal: 1m 16s\tremaining: 1m 19s\n",
      "490:\tlearn: 0.7002767\ttotal: 1m 16s\tremaining: 1m 19s\n",
      "491:\tlearn: 0.7002434\ttotal: 1m 16s\tremaining: 1m 19s\n",
      "492:\tlearn: 0.7003338\ttotal: 1m 16s\tremaining: 1m 18s\n",
      "493:\tlearn: 0.7003830\ttotal: 1m 16s\tremaining: 1m 18s\n",
      "494:\tlearn: 0.7004147\ttotal: 1m 17s\tremaining: 1m 18s\n",
      "495:\tlearn: 0.7005829\ttotal: 1m 17s\tremaining: 1m 18s\n",
      "496:\tlearn: 0.7006781\ttotal: 1m 17s\tremaining: 1m 18s\n",
      "497:\tlearn: 0.7006955\ttotal: 1m 17s\tremaining: 1m 18s\n",
      "498:\tlearn: 0.7007130\ttotal: 1m 17s\tremaining: 1m 18s\n",
      "499:\tlearn: 0.7008304\ttotal: 1m 18s\tremaining: 1m 18s\n",
      "500:\tlearn: 0.7008669\ttotal: 1m 18s\tremaining: 1m 17s\n",
      "501:\tlearn: 0.7008986\ttotal: 1m 18s\tremaining: 1m 17s\n",
      "502:\tlearn: 0.7010398\ttotal: 1m 18s\tremaining: 1m 17s\n",
      "503:\tlearn: 0.7010731\ttotal: 1m 18s\tremaining: 1m 17s\n",
      "504:\tlearn: 0.7011445\ttotal: 1m 19s\tremaining: 1m 17s\n",
      "505:\tlearn: 0.7012428\ttotal: 1m 19s\tremaining: 1m 17s\n",
      "506:\tlearn: 0.7012603\ttotal: 1m 19s\tremaining: 1m 17s\n",
      "507:\tlearn: 0.7012984\ttotal: 1m 19s\tremaining: 1m 17s\n",
      "508:\tlearn: 0.7013174\ttotal: 1m 20s\tremaining: 1m 17s\n",
      "509:\tlearn: 0.7014189\ttotal: 1m 20s\tremaining: 1m 17s\n",
      "510:\tlearn: 0.7015094\ttotal: 1m 20s\tremaining: 1m 16s\n",
      "511:\tlearn: 0.7016077\ttotal: 1m 20s\tremaining: 1m 16s\n",
      "512:\tlearn: 0.7016347\ttotal: 1m 20s\tremaining: 1m 16s\n",
      "513:\tlearn: 0.7016791\ttotal: 1m 20s\tremaining: 1m 16s\n",
      "514:\tlearn: 0.7017124\ttotal: 1m 21s\tremaining: 1m 16s\n",
      "515:\tlearn: 0.7017965\ttotal: 1m 21s\tremaining: 1m 16s\n",
      "516:\tlearn: 0.7018727\ttotal: 1m 21s\tremaining: 1m 16s\n",
      "517:\tlearn: 0.7019345\ttotal: 1m 21s\tremaining: 1m 16s\n",
      "518:\tlearn: 0.7019425\ttotal: 1m 21s\tremaining: 1m 15s\n",
      "519:\tlearn: 0.7020345\ttotal: 1m 22s\tremaining: 1m 15s\n",
      "520:\tlearn: 0.7020694\ttotal: 1m 22s\tremaining: 1m 15s\n",
      "521:\tlearn: 0.7020980\ttotal: 1m 22s\tremaining: 1m 15s\n",
      "522:\tlearn: 0.7021757\ttotal: 1m 22s\tremaining: 1m 15s\n",
      "523:\tlearn: 0.7022931\ttotal: 1m 22s\tremaining: 1m 15s\n",
      "524:\tlearn: 0.7024137\ttotal: 1m 23s\tremaining: 1m 15s\n",
      "525:\tlearn: 0.7023439\ttotal: 1m 23s\tremaining: 1m 15s\n",
      "526:\tlearn: 0.7023629\ttotal: 1m 23s\tremaining: 1m 14s\n",
      "527:\tlearn: 0.7024343\ttotal: 1m 23s\tremaining: 1m 14s\n",
      "528:\tlearn: 0.7024866\ttotal: 1m 24s\tremaining: 1m 14s\n",
      "529:\tlearn: 0.7025453\ttotal: 1m 24s\tremaining: 1m 14s\n",
      "530:\tlearn: 0.7025739\ttotal: 1m 24s\tremaining: 1m 14s\n",
      "531:\tlearn: 0.7026167\ttotal: 1m 24s\tremaining: 1m 14s\n",
      "532:\tlearn: 0.7026596\ttotal: 1m 24s\tremaining: 1m 14s\n",
      "533:\tlearn: 0.7026850\ttotal: 1m 24s\tremaining: 1m 14s\n",
      "534:\tlearn: 0.7027103\ttotal: 1m 25s\tremaining: 1m 14s\n",
      "535:\tlearn: 0.7027754\ttotal: 1m 25s\tremaining: 1m 13s\n",
      "536:\tlearn: 0.7028547\ttotal: 1m 25s\tremaining: 1m 13s\n",
      "537:\tlearn: 0.7029610\ttotal: 1m 25s\tremaining: 1m 13s\n",
      "538:\tlearn: 0.7030038\ttotal: 1m 25s\tremaining: 1m 13s\n",
      "539:\tlearn: 0.7030784\ttotal: 1m 26s\tremaining: 1m 13s\n",
      "540:\tlearn: 0.7031403\ttotal: 1m 26s\tremaining: 1m 13s\n",
      "541:\tlearn: 0.7031863\ttotal: 1m 26s\tremaining: 1m 13s\n",
      "542:\tlearn: 0.7032037\ttotal: 1m 26s\tremaining: 1m 13s\n",
      "543:\tlearn: 0.7032942\ttotal: 1m 26s\tremaining: 1m 12s\n",
      "544:\tlearn: 0.7033338\ttotal: 1m 27s\tremaining: 1m 12s\n",
      "545:\tlearn: 0.7033624\ttotal: 1m 27s\tremaining: 1m 12s\n",
      "546:\tlearn: 0.7034655\ttotal: 1m 27s\tremaining: 1m 12s\n",
      "547:\tlearn: 0.7035290\ttotal: 1m 27s\tremaining: 1m 12s\n",
      "548:\tlearn: 0.7035290\ttotal: 1m 27s\tremaining: 1m 12s\n",
      "549:\tlearn: 0.7035686\ttotal: 1m 28s\tremaining: 1m 12s\n",
      "550:\tlearn: 0.7036067\ttotal: 1m 28s\tremaining: 1m 11s\n",
      "551:\tlearn: 0.7036575\ttotal: 1m 28s\tremaining: 1m 11s\n",
      "552:\tlearn: 0.7037971\ttotal: 1m 28s\tremaining: 1m 11s\n",
      "553:\tlearn: 0.7038938\ttotal: 1m 28s\tremaining: 1m 11s\n",
      "554:\tlearn: 0.7040588\ttotal: 1m 29s\tremaining: 1m 11s\n",
      "555:\tlearn: 0.7041112\ttotal: 1m 29s\tremaining: 1m 11s\n",
      "556:\tlearn: 0.7040588\ttotal: 1m 29s\tremaining: 1m 11s\n",
      "557:\tlearn: 0.7041524\ttotal: 1m 29s\tremaining: 1m 11s\n",
      "558:\tlearn: 0.7042238\ttotal: 1m 29s\tremaining: 1m 10s\n",
      "559:\tlearn: 0.7042651\ttotal: 1m 30s\tremaining: 1m 10s\n",
      "560:\tlearn: 0.7042651\ttotal: 1m 30s\tremaining: 1m 10s\n",
      "561:\tlearn: 0.7043539\ttotal: 1m 30s\tremaining: 1m 10s\n",
      "562:\tlearn: 0.7044332\ttotal: 1m 30s\tremaining: 1m 10s\n",
      "563:\tlearn: 0.7044650\ttotal: 1m 30s\tremaining: 1m 10s\n",
      "564:\tlearn: 0.7044523\ttotal: 1m 31s\tremaining: 1m 10s\n",
      "565:\tlearn: 0.7045380\ttotal: 1m 31s\tremaining: 1m 10s\n",
      "566:\tlearn: 0.7046205\ttotal: 1m 31s\tremaining: 1m 9s\n",
      "567:\tlearn: 0.7047014\ttotal: 1m 31s\tremaining: 1m 9s\n",
      "568:\tlearn: 0.7047728\ttotal: 1m 31s\tremaining: 1m 9s\n",
      "569:\tlearn: 0.7048648\ttotal: 1m 32s\tremaining: 1m 9s\n",
      "570:\tlearn: 0.7048695\ttotal: 1m 32s\tremaining: 1m 9s\n",
      "571:\tlearn: 0.7048251\ttotal: 1m 32s\tremaining: 1m 9s\n",
      "572:\tlearn: 0.7048616\ttotal: 1m 32s\tremaining: 1m 9s\n",
      "573:\tlearn: 0.7050329\ttotal: 1m 33s\tremaining: 1m 9s\n",
      "574:\tlearn: 0.7051202\ttotal: 1m 33s\tremaining: 1m 8s\n",
      "575:\tlearn: 0.7051757\ttotal: 1m 33s\tremaining: 1m 8s\n",
      "576:\tlearn: 0.7052233\ttotal: 1m 33s\tremaining: 1m 8s\n",
      "577:\tlearn: 0.7052186\ttotal: 1m 33s\tremaining: 1m 8s\n",
      "578:\tlearn: 0.7052725\ttotal: 1m 33s\tremaining: 1m 8s\n",
      "579:\tlearn: 0.7054153\ttotal: 1m 34s\tremaining: 1m 8s\n",
      "580:\tlearn: 0.7054486\ttotal: 1m 34s\tremaining: 1m 8s\n",
      "581:\tlearn: 0.7055073\ttotal: 1m 34s\tremaining: 1m 7s\n",
      "582:\tlearn: 0.7055850\ttotal: 1m 34s\tremaining: 1m 7s\n",
      "583:\tlearn: 0.7055708\ttotal: 1m 34s\tremaining: 1m 7s\n",
      "584:\tlearn: 0.7056437\ttotal: 1m 35s\tremaining: 1m 7s\n",
      "585:\tlearn: 0.7056659\ttotal: 1m 35s\tremaining: 1m 7s\n",
      "586:\tlearn: 0.7057437\ttotal: 1m 35s\tremaining: 1m 7s\n",
      "587:\tlearn: 0.7057468\ttotal: 1m 35s\tremaining: 1m 7s\n",
      "588:\tlearn: 0.7058293\ttotal: 1m 35s\tremaining: 1m 6s\n",
      "589:\tlearn: 0.7058167\ttotal: 1m 36s\tremaining: 1m 6s\n",
      "590:\tlearn: 0.7060340\ttotal: 1m 36s\tremaining: 1m 6s\n",
      "591:\tlearn: 0.7060134\ttotal: 1m 36s\tremaining: 1m 6s\n",
      "592:\tlearn: 0.7060816\ttotal: 1m 36s\tremaining: 1m 6s\n",
      "593:\tlearn: 0.7061498\ttotal: 1m 36s\tremaining: 1m 6s\n",
      "594:\tlearn: 0.7061863\ttotal: 1m 37s\tremaining: 1m 6s\n",
      "595:\tlearn: 0.7062069\ttotal: 1m 37s\tremaining: 1m 5s\n",
      "596:\tlearn: 0.7062402\ttotal: 1m 37s\tremaining: 1m 5s\n",
      "597:\tlearn: 0.7063100\ttotal: 1m 37s\tremaining: 1m 5s\n",
      "598:\tlearn: 0.7064148\ttotal: 1m 37s\tremaining: 1m 5s\n",
      "599:\tlearn: 0.7064735\ttotal: 1m 38s\tremaining: 1m 5s\n",
      "600:\tlearn: 0.7065068\ttotal: 1m 38s\tremaining: 1m 5s\n",
      "601:\tlearn: 0.7065179\ttotal: 1m 38s\tremaining: 1m 5s\n",
      "602:\tlearn: 0.7066369\ttotal: 1m 38s\tremaining: 1m 4s\n",
      "603:\tlearn: 0.7066226\ttotal: 1m 38s\tremaining: 1m 4s\n",
      "604:\tlearn: 0.7066448\ttotal: 1m 38s\tremaining: 1m 4s\n",
      "605:\tlearn: 0.7067638\ttotal: 1m 39s\tremaining: 1m 4s\n",
      "606:\tlearn: 0.7068193\ttotal: 1m 39s\tremaining: 1m 4s\n",
      "607:\tlearn: 0.7068114\ttotal: 1m 39s\tremaining: 1m 4s\n",
      "608:\tlearn: 0.7069034\ttotal: 1m 39s\tremaining: 1m 3s\n",
      "609:\tlearn: 0.7070303\ttotal: 1m 39s\tremaining: 1m 3s\n",
      "610:\tlearn: 0.7069859\ttotal: 1m 40s\tremaining: 1m 3s\n",
      "611:\tlearn: 0.7071001\ttotal: 1m 40s\tremaining: 1m 3s\n",
      "612:\tlearn: 0.7071604\ttotal: 1m 40s\tremaining: 1m 3s\n",
      "613:\tlearn: 0.7072492\ttotal: 1m 40s\tremaining: 1m 3s\n",
      "614:\tlearn: 0.7072603\ttotal: 1m 40s\tremaining: 1m 3s\n",
      "615:\tlearn: 0.7072810\ttotal: 1m 40s\tremaining: 1m 2s\n",
      "616:\tlearn: 0.7073190\ttotal: 1m 41s\tremaining: 1m 2s\n",
      "617:\tlearn: 0.7073825\ttotal: 1m 41s\tremaining: 1m 2s\n",
      "618:\tlearn: 0.7074126\ttotal: 1m 41s\tremaining: 1m 2s\n",
      "619:\tlearn: 0.7074682\ttotal: 1m 41s\tremaining: 1m 2s\n",
      "620:\tlearn: 0.7075507\ttotal: 1m 41s\tremaining: 1m 2s\n",
      "621:\tlearn: 0.7076221\ttotal: 1m 41s\tremaining: 1m 1s\n",
      "622:\tlearn: 0.7075856\ttotal: 1m 42s\tremaining: 1m 1s\n",
      "623:\tlearn: 0.7076379\ttotal: 1m 42s\tremaining: 1m 1s\n",
      "624:\tlearn: 0.7076284\ttotal: 1m 42s\tremaining: 1m 1s\n"
     ]
    },
    {
     "name": "stdout",
     "output_type": "stream",
     "text": [
      "625:\tlearn: 0.7076760\ttotal: 1m 42s\tremaining: 1m 1s\n",
      "626:\tlearn: 0.7077252\ttotal: 1m 42s\tremaining: 1m 1s\n",
      "627:\tlearn: 0.7077664\ttotal: 1m 43s\tremaining: 1m 1s\n",
      "628:\tlearn: 0.7077902\ttotal: 1m 43s\tremaining: 1m\n",
      "629:\tlearn: 0.7078775\ttotal: 1m 43s\tremaining: 1m\n",
      "630:\tlearn: 0.7079616\ttotal: 1m 43s\tremaining: 1m\n",
      "631:\tlearn: 0.7080314\ttotal: 1m 43s\tremaining: 1m\n",
      "632:\tlearn: 0.7081044\ttotal: 1m 43s\tremaining: 1m\n",
      "633:\tlearn: 0.7081805\ttotal: 1m 44s\tremaining: 1m\n",
      "634:\tlearn: 0.7082455\ttotal: 1m 44s\tremaining: 60s\n",
      "635:\tlearn: 0.7083487\ttotal: 1m 44s\tremaining: 59.8s\n",
      "636:\tlearn: 0.7084137\ttotal: 1m 44s\tremaining: 59.7s\n",
      "637:\tlearn: 0.7084328\ttotal: 1m 44s\tremaining: 59.6s\n",
      "638:\tlearn: 0.7084946\ttotal: 1m 45s\tremaining: 59.4s\n",
      "639:\tlearn: 0.7085295\ttotal: 1m 45s\tremaining: 59.3s\n",
      "640:\tlearn: 0.7084978\ttotal: 1m 45s\tremaining: 59.1s\n",
      "641:\tlearn: 0.7085026\ttotal: 1m 45s\tremaining: 59s\n",
      "642:\tlearn: 0.7086342\ttotal: 1m 45s\tremaining: 58.8s\n",
      "643:\tlearn: 0.7086834\ttotal: 1m 46s\tremaining: 58.7s\n",
      "644:\tlearn: 0.7087231\ttotal: 1m 46s\tremaining: 58.6s\n",
      "645:\tlearn: 0.7088325\ttotal: 1m 46s\tremaining: 58.5s\n",
      "646:\tlearn: 0.7089135\ttotal: 1m 46s\tremaining: 58.4s\n",
      "647:\tlearn: 0.7089023\ttotal: 1m 47s\tremaining: 58.2s\n",
      "648:\tlearn: 0.7089436\ttotal: 1m 47s\tremaining: 58.1s\n",
      "649:\tlearn: 0.7090229\ttotal: 1m 47s\tremaining: 58s\n",
      "650:\tlearn: 0.7090531\ttotal: 1m 47s\tremaining: 57.8s\n",
      "651:\tlearn: 0.7091451\ttotal: 1m 48s\tremaining: 57.7s\n",
      "652:\tlearn: 0.7091768\ttotal: 1m 48s\tremaining: 57.7s\n",
      "653:\tlearn: 0.7092736\ttotal: 1m 48s\tremaining: 57.5s\n",
      "654:\tlearn: 0.7093370\ttotal: 1m 49s\tremaining: 57.4s\n",
      "655:\tlearn: 0.7093926\ttotal: 1m 49s\tremaining: 57.2s\n",
      "656:\tlearn: 0.7094957\ttotal: 1m 49s\tremaining: 57.1s\n",
      "657:\tlearn: 0.7095131\ttotal: 1m 49s\tremaining: 57s\n",
      "658:\tlearn: 0.7095338\ttotal: 1m 49s\tremaining: 56.8s\n",
      "659:\tlearn: 0.7095528\ttotal: 1m 50s\tremaining: 56.7s\n",
      "660:\tlearn: 0.7095687\ttotal: 1m 50s\tremaining: 56.5s\n",
      "661:\tlearn: 0.7095814\ttotal: 1m 50s\tremaining: 56.4s\n",
      "662:\tlearn: 0.7095925\ttotal: 1m 50s\tremaining: 56.3s\n",
      "663:\tlearn: 0.7096226\ttotal: 1m 50s\tremaining: 56.1s\n",
      "664:\tlearn: 0.7096512\ttotal: 1m 51s\tremaining: 56s\n",
      "665:\tlearn: 0.7098003\ttotal: 1m 51s\tremaining: 55.9s\n",
      "666:\tlearn: 0.7098447\ttotal: 1m 51s\tremaining: 55.7s\n",
      "667:\tlearn: 0.7098812\ttotal: 1m 51s\tremaining: 55.5s\n",
      "668:\tlearn: 0.7099383\ttotal: 1m 51s\tremaining: 55.4s\n",
      "669:\tlearn: 0.7099637\ttotal: 1m 52s\tremaining: 55.3s\n",
      "670:\tlearn: 0.7100240\ttotal: 1m 52s\tremaining: 55.1s\n",
      "671:\tlearn: 0.7100986\ttotal: 1m 52s\tremaining: 54.9s\n",
      "672:\tlearn: 0.7101731\ttotal: 1m 52s\tremaining: 54.8s\n",
      "673:\tlearn: 0.7102493\ttotal: 1m 52s\tremaining: 54.6s\n",
      "674:\tlearn: 0.7103096\ttotal: 1m 53s\tremaining: 54.4s\n",
      "675:\tlearn: 0.7103064\ttotal: 1m 53s\tremaining: 54.3s\n",
      "676:\tlearn: 0.7103254\ttotal: 1m 53s\tremaining: 54.1s\n",
      "677:\tlearn: 0.7104190\ttotal: 1m 53s\tremaining: 53.9s\n",
      "678:\tlearn: 0.7105094\ttotal: 1m 53s\tremaining: 53.8s\n",
      "679:\tlearn: 0.7105555\ttotal: 1m 53s\tremaining: 53.6s\n",
      "680:\tlearn: 0.7106015\ttotal: 1m 54s\tremaining: 53.4s\n",
      "681:\tlearn: 0.7106871\ttotal: 1m 54s\tremaining: 53.3s\n",
      "682:\tlearn: 0.7107046\ttotal: 1m 54s\tremaining: 53.1s\n",
      "683:\tlearn: 0.7107633\ttotal: 1m 54s\tremaining: 52.9s\n",
      "684:\tlearn: 0.7108648\ttotal: 1m 54s\tremaining: 52.7s\n",
      "685:\tlearn: 0.7109537\ttotal: 1m 54s\tremaining: 52.6s\n",
      "686:\tlearn: 0.7109457\ttotal: 1m 55s\tremaining: 52.4s\n",
      "687:\tlearn: 0.7109315\ttotal: 1m 55s\tremaining: 52.3s\n",
      "688:\tlearn: 0.7110171\ttotal: 1m 55s\tremaining: 52.1s\n",
      "689:\tlearn: 0.7110346\ttotal: 1m 55s\tremaining: 51.9s\n",
      "690:\tlearn: 0.7110584\ttotal: 1m 55s\tremaining: 51.7s\n",
      "691:\tlearn: 0.7110536\ttotal: 1m 55s\tremaining: 51.6s\n",
      "692:\tlearn: 0.7110663\ttotal: 1m 56s\tremaining: 51.4s\n",
      "693:\tlearn: 0.7111409\ttotal: 1m 56s\tremaining: 51.2s\n",
      "694:\tlearn: 0.7112265\ttotal: 1m 56s\tremaining: 51.1s\n",
      "695:\tlearn: 0.7113090\ttotal: 1m 56s\tremaining: 50.9s\n",
      "696:\tlearn: 0.7114106\ttotal: 1m 56s\tremaining: 50.7s\n",
      "697:\tlearn: 0.7114391\ttotal: 1m 56s\tremaining: 50.6s\n",
      "698:\tlearn: 0.7114835\ttotal: 1m 57s\tremaining: 50.4s\n",
      "699:\tlearn: 0.7114820\ttotal: 1m 57s\tremaining: 50.3s\n",
      "700:\tlearn: 0.7115121\ttotal: 1m 57s\tremaining: 50.1s\n",
      "701:\tlearn: 0.7115454\ttotal: 1m 57s\tremaining: 49.9s\n",
      "702:\tlearn: 0.7115898\ttotal: 1m 57s\tremaining: 49.8s\n",
      "703:\tlearn: 0.7117199\ttotal: 1m 57s\tremaining: 49.6s\n",
      "704:\tlearn: 0.7118167\ttotal: 1m 58s\tremaining: 49.4s\n",
      "705:\tlearn: 0.7118611\ttotal: 1m 58s\tremaining: 49.3s\n",
      "706:\tlearn: 0.7118992\ttotal: 1m 58s\tremaining: 49.1s\n",
      "707:\tlearn: 0.7119452\ttotal: 1m 58s\tremaining: 48.9s\n",
      "708:\tlearn: 0.7120245\ttotal: 1m 58s\tremaining: 48.8s\n",
      "709:\tlearn: 0.7119928\ttotal: 1m 59s\tremaining: 48.6s\n",
      "710:\tlearn: 0.7120436\ttotal: 1m 59s\tremaining: 48.5s\n",
      "711:\tlearn: 0.7121086\ttotal: 1m 59s\tremaining: 48.3s\n",
      "712:\tlearn: 0.7121752\ttotal: 1m 59s\tremaining: 48.1s\n",
      "713:\tlearn: 0.7122197\ttotal: 1m 59s\tremaining: 47.9s\n",
      "714:\tlearn: 0.7123149\ttotal: 1m 59s\tremaining: 47.8s\n",
      "715:\tlearn: 0.7123672\ttotal: 1m 59s\tremaining: 47.6s\n",
      "716:\tlearn: 0.7124767\ttotal: 2m\tremaining: 47.4s\n",
      "717:\tlearn: 0.7124592\ttotal: 2m\tremaining: 47.2s\n",
      "718:\tlearn: 0.7124989\ttotal: 2m\tremaining: 47.1s\n",
      "719:\tlearn: 0.7125973\ttotal: 2m\tremaining: 46.9s\n",
      "720:\tlearn: 0.7126036\ttotal: 2m\tremaining: 46.8s\n",
      "721:\tlearn: 0.7126671\ttotal: 2m\tremaining: 46.6s\n",
      "722:\tlearn: 0.7127004\ttotal: 2m 1s\tremaining: 46.4s\n",
      "723:\tlearn: 0.7126718\ttotal: 2m 1s\tremaining: 46.2s\n",
      "724:\tlearn: 0.7127289\ttotal: 2m 1s\tremaining: 46.1s\n",
      "725:\tlearn: 0.7128178\ttotal: 2m 1s\tremaining: 45.9s\n",
      "726:\tlearn: 0.7128733\ttotal: 2m 1s\tremaining: 45.7s\n",
      "727:\tlearn: 0.7129859\ttotal: 2m 1s\tremaining: 45.6s\n",
      "728:\tlearn: 0.7130208\ttotal: 2m 2s\tremaining: 45.4s\n",
      "729:\tlearn: 0.7130208\ttotal: 2m 2s\tremaining: 45.2s\n",
      "730:\tlearn: 0.7131018\ttotal: 2m 2s\tremaining: 45.1s\n",
      "731:\tlearn: 0.7131478\ttotal: 2m 2s\tremaining: 44.9s\n",
      "732:\tlearn: 0.7132445\ttotal: 2m 2s\tremaining: 44.8s\n",
      "733:\tlearn: 0.7132778\ttotal: 2m 3s\tremaining: 44.6s\n",
      "734:\tlearn: 0.7132874\ttotal: 2m 3s\tremaining: 44.4s\n",
      "735:\tlearn: 0.7132223\ttotal: 2m 3s\tremaining: 44.3s\n",
      "736:\tlearn: 0.7132588\ttotal: 2m 3s\tremaining: 44.1s\n",
      "737:\tlearn: 0.7133128\ttotal: 2m 3s\tremaining: 43.9s\n",
      "738:\tlearn: 0.7134492\ttotal: 2m 3s\tremaining: 43.7s\n",
      "739:\tlearn: 0.7135079\ttotal: 2m 4s\tremaining: 43.6s\n",
      "740:\tlearn: 0.7135380\ttotal: 2m 4s\tremaining: 43.4s\n",
      "741:\tlearn: 0.7136015\ttotal: 2m 4s\tremaining: 43.2s\n",
      "742:\tlearn: 0.7136427\ttotal: 2m 4s\tremaining: 43.1s\n",
      "743:\tlearn: 0.7137855\ttotal: 2m 4s\tremaining: 42.9s\n",
      "744:\tlearn: 0.7138966\ttotal: 2m 4s\tremaining: 42.8s\n",
      "745:\tlearn: 0.7139299\ttotal: 2m 5s\tremaining: 42.6s\n",
      "746:\tlearn: 0.7139743\ttotal: 2m 5s\tremaining: 42.4s\n",
      "747:\tlearn: 0.7140552\ttotal: 2m 5s\tremaining: 42.3s\n",
      "748:\tlearn: 0.7141028\ttotal: 2m 5s\tremaining: 42.1s\n",
      "749:\tlearn: 0.7141821\ttotal: 2m 5s\tremaining: 41.9s\n",
      "750:\tlearn: 0.7141837\ttotal: 2m 5s\tremaining: 41.8s\n",
      "751:\tlearn: 0.7142488\ttotal: 2m 6s\tremaining: 41.6s\n",
      "752:\tlearn: 0.7142900\ttotal: 2m 6s\tremaining: 41.4s\n",
      "753:\tlearn: 0.7143773\ttotal: 2m 6s\tremaining: 41.3s\n",
      "754:\tlearn: 0.7143947\ttotal: 2m 6s\tremaining: 41.1s\n",
      "755:\tlearn: 0.7144503\ttotal: 2m 6s\tremaining: 41s\n",
      "756:\tlearn: 0.7144280\ttotal: 2m 7s\tremaining: 40.8s\n",
      "757:\tlearn: 0.7144915\ttotal: 2m 7s\tremaining: 40.6s\n",
      "758:\tlearn: 0.7145169\ttotal: 2m 7s\tremaining: 40.4s\n",
      "759:\tlearn: 0.7145486\ttotal: 2m 7s\tremaining: 40.3s\n",
      "760:\tlearn: 0.7146041\ttotal: 2m 7s\tremaining: 40.1s\n",
      "761:\tlearn: 0.7146771\ttotal: 2m 7s\tremaining: 40s\n",
      "762:\tlearn: 0.7147215\ttotal: 2m 8s\tremaining: 39.8s\n",
      "763:\tlearn: 0.7147390\ttotal: 2m 8s\tremaining: 39.6s\n",
      "764:\tlearn: 0.7147501\ttotal: 2m 8s\tremaining: 39.4s\n",
      "765:\tlearn: 0.7149262\ttotal: 2m 8s\tremaining: 39.3s\n",
      "766:\tlearn: 0.7148897\ttotal: 2m 8s\tremaining: 39.1s\n",
      "767:\tlearn: 0.7149135\ttotal: 2m 8s\tremaining: 39s\n",
      "768:\tlearn: 0.7149532\ttotal: 2m 9s\tremaining: 38.8s\n",
      "769:\tlearn: 0.7150055\ttotal: 2m 9s\tremaining: 38.6s\n",
      "770:\tlearn: 0.7149912\ttotal: 2m 9s\tremaining: 38.5s\n",
      "771:\tlearn: 0.7151150\ttotal: 2m 9s\tremaining: 38.3s\n",
      "772:\tlearn: 0.7151927\ttotal: 2m 9s\tremaining: 38.1s\n",
      "773:\tlearn: 0.7151832\ttotal: 2m 10s\tremaining: 38s\n",
      "774:\tlearn: 0.7151642\ttotal: 2m 10s\tremaining: 37.8s\n",
      "775:\tlearn: 0.7152149\ttotal: 2m 10s\tremaining: 37.6s\n",
      "776:\tlearn: 0.7152483\ttotal: 2m 10s\tremaining: 37.5s\n",
      "777:\tlearn: 0.7152736\ttotal: 2m 10s\tremaining: 37.3s\n",
      "778:\tlearn: 0.7153672\ttotal: 2m 10s\tremaining: 37.1s\n",
      "779:\tlearn: 0.7154244\ttotal: 2m 11s\tremaining: 37s\n",
      "780:\tlearn: 0.7154307\ttotal: 2m 11s\tremaining: 36.8s\n",
      "781:\tlearn: 0.7155021\ttotal: 2m 11s\tremaining: 36.6s\n"
     ]
    },
    {
     "name": "stdout",
     "output_type": "stream",
     "text": [
      "782:\tlearn: 0.7156020\ttotal: 2m 11s\tremaining: 36.4s\n",
      "783:\tlearn: 0.7156147\ttotal: 2m 11s\tremaining: 36.3s\n",
      "784:\tlearn: 0.7156528\ttotal: 2m 11s\tremaining: 36.1s\n",
      "785:\tlearn: 0.7156988\ttotal: 2m 12s\tremaining: 36s\n",
      "786:\tlearn: 0.7157274\ttotal: 2m 12s\tremaining: 35.8s\n",
      "787:\tlearn: 0.7157528\ttotal: 2m 12s\tremaining: 35.6s\n",
      "788:\tlearn: 0.7157528\ttotal: 2m 12s\tremaining: 35.5s\n",
      "789:\tlearn: 0.7157940\ttotal: 2m 12s\tremaining: 35.3s\n",
      "790:\tlearn: 0.7158162\ttotal: 2m 13s\tremaining: 35.2s\n",
      "791:\tlearn: 0.7158749\ttotal: 2m 13s\tremaining: 35s\n",
      "792:\tlearn: 0.7158781\ttotal: 2m 13s\tremaining: 34.8s\n",
      "793:\tlearn: 0.7159146\ttotal: 2m 13s\tremaining: 34.7s\n",
      "794:\tlearn: 0.7159701\ttotal: 2m 13s\tremaining: 34.5s\n",
      "795:\tlearn: 0.7159542\ttotal: 2m 13s\tremaining: 34.3s\n",
      "796:\tlearn: 0.7160351\ttotal: 2m 14s\tremaining: 34.1s\n",
      "797:\tlearn: 0.7160764\ttotal: 2m 14s\tremaining: 34s\n",
      "798:\tlearn: 0.7161161\ttotal: 2m 14s\tremaining: 33.8s\n",
      "799:\tlearn: 0.7162398\ttotal: 2m 14s\tremaining: 33.6s\n",
      "800:\tlearn: 0.7162477\ttotal: 2m 14s\tremaining: 33.5s\n",
      "801:\tlearn: 0.7163033\ttotal: 2m 14s\tremaining: 33.3s\n",
      "802:\tlearn: 0.7164143\ttotal: 2m 15s\tremaining: 33.2s\n",
      "803:\tlearn: 0.7164746\ttotal: 2m 15s\tremaining: 33s\n",
      "804:\tlearn: 0.7165682\ttotal: 2m 15s\tremaining: 32.8s\n",
      "805:\tlearn: 0.7165999\ttotal: 2m 15s\tremaining: 32.7s\n",
      "806:\tlearn: 0.7166396\ttotal: 2m 15s\tremaining: 32.5s\n",
      "807:\tlearn: 0.7166618\ttotal: 2m 16s\tremaining: 32.3s\n",
      "808:\tlearn: 0.7166634\ttotal: 2m 16s\tremaining: 32.1s\n",
      "809:\tlearn: 0.7167586\ttotal: 2m 16s\tremaining: 32s\n",
      "810:\tlearn: 0.7167903\ttotal: 2m 16s\tremaining: 31.8s\n",
      "811:\tlearn: 0.7168204\ttotal: 2m 16s\tremaining: 31.6s\n",
      "812:\tlearn: 0.7168903\ttotal: 2m 16s\tremaining: 31.5s\n",
      "813:\tlearn: 0.7169839\ttotal: 2m 16s\tremaining: 31.3s\n",
      "814:\tlearn: 0.7170441\ttotal: 2m 17s\tremaining: 31.1s\n",
      "815:\tlearn: 0.7171457\ttotal: 2m 17s\tremaining: 31s\n",
      "816:\tlearn: 0.7172171\ttotal: 2m 17s\tremaining: 30.8s\n",
      "817:\tlearn: 0.7173361\ttotal: 2m 17s\tremaining: 30.6s\n",
      "818:\tlearn: 0.7173963\ttotal: 2m 17s\tremaining: 30.5s\n",
      "819:\tlearn: 0.7174646\ttotal: 2m 18s\tremaining: 30.3s\n",
      "820:\tlearn: 0.7174423\ttotal: 2m 18s\tremaining: 30.1s\n",
      "821:\tlearn: 0.7175312\ttotal: 2m 18s\tremaining: 30s\n",
      "822:\tlearn: 0.7175026\ttotal: 2m 18s\tremaining: 29.8s\n",
      "823:\tlearn: 0.7175153\ttotal: 2m 18s\tremaining: 29.6s\n",
      "824:\tlearn: 0.7175597\ttotal: 2m 18s\tremaining: 29.4s\n",
      "825:\tlearn: 0.7175867\ttotal: 2m 18s\tremaining: 29.3s\n",
      "826:\tlearn: 0.7176058\ttotal: 2m 19s\tremaining: 29.1s\n",
      "827:\tlearn: 0.7176391\ttotal: 2m 19s\tremaining: 28.9s\n",
      "828:\tlearn: 0.7176438\ttotal: 2m 19s\tremaining: 28.8s\n",
      "829:\tlearn: 0.7176676\ttotal: 2m 19s\tremaining: 28.6s\n",
      "830:\tlearn: 0.7177120\ttotal: 2m 19s\tremaining: 28.4s\n",
      "831:\tlearn: 0.7177168\ttotal: 2m 19s\tremaining: 28.2s\n",
      "832:\tlearn: 0.7177263\ttotal: 2m 20s\tremaining: 28.1s\n",
      "833:\tlearn: 0.7177787\ttotal: 2m 20s\tremaining: 27.9s\n",
      "834:\tlearn: 0.7179024\ttotal: 2m 20s\tremaining: 27.7s\n",
      "835:\tlearn: 0.7179310\ttotal: 2m 20s\tremaining: 27.6s\n",
      "836:\tlearn: 0.7180151\ttotal: 2m 20s\tremaining: 27.4s\n",
      "837:\tlearn: 0.7180500\ttotal: 2m 20s\tremaining: 27.2s\n",
      "838:\tlearn: 0.7180738\ttotal: 2m 21s\tremaining: 27.1s\n",
      "839:\tlearn: 0.7181372\ttotal: 2m 21s\tremaining: 26.9s\n",
      "840:\tlearn: 0.7181785\ttotal: 2m 21s\tremaining: 26.7s\n",
      "841:\tlearn: 0.7182848\ttotal: 2m 21s\tremaining: 26.6s\n",
      "842:\tlearn: 0.7183355\ttotal: 2m 21s\tremaining: 26.4s\n",
      "843:\tlearn: 0.7184069\ttotal: 2m 22s\tremaining: 26.3s\n",
      "844:\tlearn: 0.7183974\ttotal: 2m 22s\tremaining: 26.1s\n",
      "845:\tlearn: 0.7184212\ttotal: 2m 22s\tremaining: 25.9s\n",
      "846:\tlearn: 0.7184577\ttotal: 2m 22s\tremaining: 25.8s\n",
      "847:\tlearn: 0.7184894\ttotal: 2m 22s\tremaining: 25.6s\n",
      "848:\tlearn: 0.7185529\ttotal: 2m 23s\tremaining: 25.4s\n",
      "849:\tlearn: 0.7185894\ttotal: 2m 23s\tremaining: 25.3s\n",
      "850:\tlearn: 0.7186021\ttotal: 2m 23s\tremaining: 25.1s\n",
      "851:\tlearn: 0.7186354\ttotal: 2m 23s\tremaining: 24.9s\n",
      "852:\tlearn: 0.7186719\ttotal: 2m 23s\tremaining: 24.8s\n",
      "853:\tlearn: 0.7186798\ttotal: 2m 23s\tremaining: 24.6s\n",
      "854:\tlearn: 0.7187163\ttotal: 2m 24s\tremaining: 24.4s\n",
      "855:\tlearn: 0.7188575\ttotal: 2m 24s\tremaining: 24.3s\n",
      "856:\tlearn: 0.7188369\ttotal: 2m 24s\tremaining: 24.1s\n",
      "857:\tlearn: 0.7188432\ttotal: 2m 24s\tremaining: 23.9s\n",
      "858:\tlearn: 0.7188924\ttotal: 2m 24s\tremaining: 23.8s\n",
      "859:\tlearn: 0.7189511\ttotal: 2m 24s\tremaining: 23.6s\n",
      "860:\tlearn: 0.7188813\ttotal: 2m 25s\tremaining: 23.4s\n",
      "861:\tlearn: 0.7189209\ttotal: 2m 25s\tremaining: 23.2s\n",
      "862:\tlearn: 0.7190463\ttotal: 2m 25s\tremaining: 23.1s\n",
      "863:\tlearn: 0.7190415\ttotal: 2m 25s\tremaining: 22.9s\n",
      "864:\tlearn: 0.7191193\ttotal: 2m 25s\tremaining: 22.7s\n",
      "865:\tlearn: 0.7191494\ttotal: 2m 25s\tremaining: 22.6s\n",
      "866:\tlearn: 0.7191193\ttotal: 2m 26s\tremaining: 22.4s\n",
      "867:\tlearn: 0.7192367\ttotal: 2m 26s\tremaining: 22.2s\n",
      "868:\tlearn: 0.7191970\ttotal: 2m 26s\tremaining: 22.1s\n",
      "869:\tlearn: 0.7192065\ttotal: 2m 26s\tremaining: 21.9s\n",
      "870:\tlearn: 0.7192716\ttotal: 2m 26s\tremaining: 21.7s\n",
      "871:\tlearn: 0.7192652\ttotal: 2m 26s\tremaining: 21.6s\n",
      "872:\tlearn: 0.7193350\ttotal: 2m 27s\tremaining: 21.4s\n",
      "873:\tlearn: 0.7193667\ttotal: 2m 27s\tremaining: 21.3s\n",
      "874:\tlearn: 0.7194302\ttotal: 2m 27s\tremaining: 21.1s\n",
      "875:\tlearn: 0.7194286\ttotal: 2m 27s\tremaining: 20.9s\n",
      "876:\tlearn: 0.7194730\ttotal: 2m 27s\tremaining: 20.8s\n",
      "877:\tlearn: 0.7195254\ttotal: 2m 28s\tremaining: 20.6s\n",
      "878:\tlearn: 0.7195413\ttotal: 2m 28s\tremaining: 20.4s\n",
      "879:\tlearn: 0.7196000\ttotal: 2m 28s\tremaining: 20.2s\n",
      "880:\tlearn: 0.7196253\ttotal: 2m 28s\tremaining: 20.1s\n",
      "881:\tlearn: 0.7196269\ttotal: 2m 28s\tremaining: 19.9s\n",
      "882:\tlearn: 0.7197316\ttotal: 2m 28s\tremaining: 19.7s\n",
      "883:\tlearn: 0.7197665\ttotal: 2m 29s\tremaining: 19.6s\n",
      "884:\tlearn: 0.7198062\ttotal: 2m 29s\tremaining: 19.4s\n",
      "885:\tlearn: 0.7198744\ttotal: 2m 29s\tremaining: 19.2s\n",
      "886:\tlearn: 0.7198998\ttotal: 2m 29s\tremaining: 19.1s\n",
      "887:\tlearn: 0.7199046\ttotal: 2m 29s\tremaining: 18.9s\n",
      "888:\tlearn: 0.7199522\ttotal: 2m 30s\tremaining: 18.7s\n",
      "889:\tlearn: 0.7199728\ttotal: 2m 30s\tremaining: 18.6s\n",
      "890:\tlearn: 0.7200696\ttotal: 2m 30s\tremaining: 18.4s\n",
      "891:\tlearn: 0.7200807\ttotal: 2m 30s\tremaining: 18.2s\n",
      "892:\tlearn: 0.7200680\ttotal: 2m 30s\tremaining: 18.1s\n",
      "893:\tlearn: 0.7201171\ttotal: 2m 30s\tremaining: 17.9s\n",
      "894:\tlearn: 0.7201314\ttotal: 2m 30s\tremaining: 17.7s\n",
      "895:\tlearn: 0.7202219\ttotal: 2m 31s\tremaining: 17.5s\n",
      "896:\tlearn: 0.7203345\ttotal: 2m 31s\tremaining: 17.4s\n",
      "897:\tlearn: 0.7204249\ttotal: 2m 31s\tremaining: 17.2s\n",
      "898:\tlearn: 0.7204884\ttotal: 2m 31s\tremaining: 17s\n",
      "899:\tlearn: 0.7205439\ttotal: 2m 31s\tremaining: 16.9s\n",
      "900:\tlearn: 0.7205566\ttotal: 2m 31s\tremaining: 16.7s\n",
      "901:\tlearn: 0.7206153\ttotal: 2m 32s\tremaining: 16.5s\n",
      "902:\tlearn: 0.7206899\ttotal: 2m 32s\tremaining: 16.4s\n",
      "903:\tlearn: 0.7207613\ttotal: 2m 32s\tremaining: 16.2s\n",
      "904:\tlearn: 0.7207724\ttotal: 2m 32s\tremaining: 16s\n",
      "905:\tlearn: 0.7207993\ttotal: 2m 32s\tremaining: 15.9s\n",
      "906:\tlearn: 0.7208596\ttotal: 2m 33s\tremaining: 15.7s\n",
      "907:\tlearn: 0.7209009\ttotal: 2m 33s\tremaining: 15.5s\n",
      "908:\tlearn: 0.7209469\ttotal: 2m 33s\tremaining: 15.4s\n",
      "909:\tlearn: 0.7209247\ttotal: 2m 33s\tremaining: 15.2s\n",
      "910:\tlearn: 0.7209453\ttotal: 2m 33s\tremaining: 15s\n",
      "911:\tlearn: 0.7209580\ttotal: 2m 33s\tremaining: 14.8s\n",
      "912:\tlearn: 0.7209421\ttotal: 2m 34s\tremaining: 14.7s\n",
      "913:\tlearn: 0.7208802\ttotal: 2m 34s\tremaining: 14.5s\n",
      "914:\tlearn: 0.7209389\ttotal: 2m 34s\tremaining: 14.3s\n",
      "915:\tlearn: 0.7209627\ttotal: 2m 34s\tremaining: 14.2s\n",
      "916:\tlearn: 0.7210436\ttotal: 2m 34s\tremaining: 14s\n",
      "917:\tlearn: 0.7210627\ttotal: 2m 34s\tremaining: 13.8s\n",
      "918:\tlearn: 0.7211896\ttotal: 2m 35s\tremaining: 13.7s\n",
      "919:\tlearn: 0.7211626\ttotal: 2m 35s\tremaining: 13.5s\n",
      "920:\tlearn: 0.7212991\ttotal: 2m 35s\tremaining: 13.3s\n",
      "921:\tlearn: 0.7213403\ttotal: 2m 35s\tremaining: 13.2s\n",
      "922:\tlearn: 0.7214165\ttotal: 2m 35s\tremaining: 13s\n",
      "923:\tlearn: 0.7214514\ttotal: 2m 35s\tremaining: 12.8s\n",
      "924:\tlearn: 0.7215228\ttotal: 2m 36s\tremaining: 12.7s\n",
      "925:\tlearn: 0.7216068\ttotal: 2m 36s\tremaining: 12.5s\n",
      "926:\tlearn: 0.7216433\ttotal: 2m 36s\tremaining: 12.3s\n",
      "927:\tlearn: 0.7216751\ttotal: 2m 36s\tremaining: 12.2s\n",
      "928:\tlearn: 0.7216624\ttotal: 2m 37s\tremaining: 12s\n",
      "929:\tlearn: 0.7217449\ttotal: 2m 37s\tremaining: 11.8s\n",
      "930:\tlearn: 0.7217512\ttotal: 2m 37s\tremaining: 11.7s\n",
      "931:\tlearn: 0.7218099\ttotal: 2m 37s\tremaining: 11.5s\n",
      "932:\tlearn: 0.7218734\ttotal: 2m 37s\tremaining: 11.3s\n",
      "933:\tlearn: 0.7219210\ttotal: 2m 37s\tremaining: 11.2s\n",
      "934:\tlearn: 0.7220146\ttotal: 2m 38s\tremaining: 11s\n",
      "935:\tlearn: 0.7220447\ttotal: 2m 38s\tremaining: 10.8s\n",
      "936:\tlearn: 0.7220304\ttotal: 2m 38s\tremaining: 10.7s\n",
      "937:\tlearn: 0.7220526\ttotal: 2m 38s\tremaining: 10.5s\n",
      "938:\tlearn: 0.7220844\ttotal: 2m 38s\tremaining: 10.3s\n"
     ]
    },
    {
     "name": "stdout",
     "output_type": "stream",
     "text": [
      "939:\tlearn: 0.7220860\ttotal: 2m 38s\tremaining: 10.1s\n",
      "940:\tlearn: 0.7221304\ttotal: 2m 39s\tremaining: 9.98s\n",
      "941:\tlearn: 0.7221574\ttotal: 2m 39s\tremaining: 9.8s\n",
      "942:\tlearn: 0.7221732\ttotal: 2m 39s\tremaining: 9.64s\n",
      "943:\tlearn: 0.7222383\ttotal: 2m 39s\tremaining: 9.47s\n",
      "944:\tlearn: 0.7222890\ttotal: 2m 39s\tremaining: 9.3s\n",
      "945:\tlearn: 0.7223192\ttotal: 2m 39s\tremaining: 9.13s\n",
      "946:\tlearn: 0.7223636\ttotal: 2m 40s\tremaining: 8.96s\n",
      "947:\tlearn: 0.7224588\ttotal: 2m 40s\tremaining: 8.79s\n",
      "948:\tlearn: 0.7225000\ttotal: 2m 40s\tremaining: 8.62s\n",
      "949:\tlearn: 0.7225270\ttotal: 2m 40s\tremaining: 8.45s\n",
      "950:\tlearn: 0.7226111\ttotal: 2m 40s\tremaining: 8.28s\n",
      "951:\tlearn: 0.7226349\ttotal: 2m 40s\tremaining: 8.11s\n",
      "952:\tlearn: 0.7226317\ttotal: 2m 40s\tremaining: 7.94s\n",
      "953:\tlearn: 0.7226365\ttotal: 2m 41s\tremaining: 7.77s\n",
      "954:\tlearn: 0.7226761\ttotal: 2m 41s\tremaining: 7.6s\n",
      "955:\tlearn: 0.7226634\ttotal: 2m 41s\tremaining: 7.43s\n",
      "956:\tlearn: 0.7227031\ttotal: 2m 41s\tremaining: 7.26s\n",
      "957:\tlearn: 0.7227475\ttotal: 2m 41s\tremaining: 7.09s\n",
      "958:\tlearn: 0.7227475\ttotal: 2m 41s\tremaining: 6.92s\n",
      "959:\tlearn: 0.7227681\ttotal: 2m 42s\tremaining: 6.75s\n",
      "960:\tlearn: 0.7227697\ttotal: 2m 42s\tremaining: 6.59s\n",
      "961:\tlearn: 0.7227951\ttotal: 2m 42s\tremaining: 6.42s\n",
      "962:\tlearn: 0.7228744\ttotal: 2m 42s\tremaining: 6.25s\n",
      "963:\tlearn: 0.7228792\ttotal: 2m 42s\tremaining: 6.08s\n",
      "964:\tlearn: 0.7229331\ttotal: 2m 43s\tremaining: 5.92s\n",
      "965:\tlearn: 0.7229998\ttotal: 2m 43s\tremaining: 5.75s\n",
      "966:\tlearn: 0.7230442\ttotal: 2m 43s\tremaining: 5.58s\n",
      "967:\tlearn: 0.7230553\ttotal: 2m 43s\tremaining: 5.41s\n",
      "968:\tlearn: 0.7230759\ttotal: 2m 43s\tremaining: 5.24s\n",
      "969:\tlearn: 0.7231933\ttotal: 2m 43s\tremaining: 5.07s\n",
      "970:\tlearn: 0.7232219\ttotal: 2m 44s\tremaining: 4.9s\n",
      "971:\tlearn: 0.7232536\ttotal: 2m 44s\tremaining: 4.74s\n",
      "972:\tlearn: 0.7233155\ttotal: 2m 44s\tremaining: 4.57s\n",
      "973:\tlearn: 0.7233075\ttotal: 2m 44s\tremaining: 4.4s\n",
      "974:\tlearn: 0.7233678\ttotal: 2m 44s\tremaining: 4.23s\n",
      "975:\tlearn: 0.7233916\ttotal: 2m 45s\tremaining: 4.06s\n",
      "976:\tlearn: 0.7234281\ttotal: 2m 45s\tremaining: 3.89s\n",
      "977:\tlearn: 0.7234503\ttotal: 2m 45s\tremaining: 3.72s\n",
      "978:\tlearn: 0.7234741\ttotal: 2m 45s\tremaining: 3.55s\n",
      "979:\tlearn: 0.7235312\ttotal: 2m 45s\tremaining: 3.38s\n",
      "980:\tlearn: 0.7235995\ttotal: 2m 46s\tremaining: 3.22s\n",
      "981:\tlearn: 0.7236344\ttotal: 2m 46s\tremaining: 3.05s\n",
      "982:\tlearn: 0.7236645\ttotal: 2m 46s\tremaining: 2.88s\n",
      "983:\tlearn: 0.7237280\ttotal: 2m 46s\tremaining: 2.71s\n",
      "984:\tlearn: 0.7237581\ttotal: 2m 46s\tremaining: 2.54s\n",
      "985:\tlearn: 0.7237438\ttotal: 2m 46s\tremaining: 2.37s\n",
      "986:\tlearn: 0.7237549\ttotal: 2m 47s\tremaining: 2.2s\n",
      "987:\tlearn: 0.7237835\ttotal: 2m 47s\tremaining: 2.03s\n",
      "988:\tlearn: 0.7237946\ttotal: 2m 47s\tremaining: 1.86s\n",
      "989:\tlearn: 0.7238105\ttotal: 2m 47s\tremaining: 1.69s\n",
      "990:\tlearn: 0.7239548\ttotal: 2m 47s\tremaining: 1.52s\n",
      "991:\tlearn: 0.7239897\ttotal: 2m 48s\tremaining: 1.35s\n",
      "992:\tlearn: 0.7240627\ttotal: 2m 48s\tremaining: 1.19s\n",
      "993:\tlearn: 0.7240468\ttotal: 2m 48s\tremaining: 1.02s\n",
      "994:\tlearn: 0.7241246\ttotal: 2m 48s\tremaining: 847ms\n",
      "995:\tlearn: 0.7241087\ttotal: 2m 48s\tremaining: 678ms\n",
      "996:\tlearn: 0.7240532\ttotal: 2m 49s\tremaining: 509ms\n",
      "997:\tlearn: 0.7240278\ttotal: 2m 49s\tremaining: 339ms\n",
      "998:\tlearn: 0.7240976\ttotal: 2m 49s\tremaining: 170ms\n",
      "999:\tlearn: 0.7241436\ttotal: 2m 49s\tremaining: 0us\n",
      "Accuracy of logistic regression classifier on test set: 0.70\n",
      "[[28814 33151]\n",
      " [14312 81306]]\n"
     ]
    }
   ],
   "source": [
    "from catboost import CatBoostClassifier \n",
    "cat=CatBoostClassifier(loss_function='Logloss',eval_metric='Accuracy')\n",
    "cat.fit(x_train,y_train)\n",
    "Yhat_cat=cat.predict(x_test)\n",
    "print('Accuracy of logistic regression classifier on test set: {:.2f}'.format(cat.score(x_test, y_test)))\n",
    "from sklearn.metrics import confusion_matrix\n",
    "confusion_matrix = confusion_matrix(y_test, Yhat_cat)\n",
    "print(confusion_matrix)"
   ]
  },
  {
   "cell_type": "code",
   "execution_count": 80,
   "id": "a4c86219",
   "metadata": {},
   "outputs": [
    {
     "data": {
      "image/png": "[encoded data removed]",
      "text/plain": [
       "<Figure size 432x288 with 1 Axes>"
      ]
     },
     "metadata": {
      "needs_background": "light"
     },
     "output_type": "display_data"
    }
   ],
   "source": [
    "#define metrics\n",
    "y_pred_proba = cat.predict_proba(x_test)[::,1]\n",
    "fpr, tpr, _ = metrics.roc_curve(y_test,  y_pred_proba)\n",
    "\n",
    "#create ROC curve\n",
    "plt.plot(fpr,tpr)\n",
    "plt.plot([[0,0],[1,1]])\n",
    "plt.title(\"CATBoost Classifier ROC Curve\")\n",
    "plt.ylabel('True Positive Rate')\n",
    "plt.xlabel('False Positive Rate')\n",
    "plt.show()"
   ]
  },
  {
   "cell_type": "code",
   "execution_count": 113,
   "id": "3faaa70c",
   "metadata": {},
   "outputs": [
    {
     "name": "stdout",
     "output_type": "stream",
     "text": [
      "{'bootstrap': [True, False],\n",
      " 'max_depth': [10, 20, 30, 40, 50, 60, 70, 80, 90, 100, 110, None],\n",
      " 'max_features': ['auto', 'sqrt'],\n",
      " 'min_samples_leaf': [1, 2, 4],\n",
      " 'min_samples_split': [2, 5, 10],\n",
      " 'n_estimators': [200, 400, 600, 800, 1000, 1200, 1400, 1600, 1800, 2000]}\n"
     ]
    },
    {
     "data": {
      "text/plain": [
       "{'bootstrap': [True, False],\n",
       " 'max_depth': [10, 20, 30, 40, 50, 60, 70, 80, 90, 100, None],\n",
       " 'max_features': ['auto', 'sqrt'],\n",
       " 'min_samples_leaf': [1, 2, 4],\n",
       " 'min_samples_split': [2, 5, 10],\n",
       " 'n_estimators': [200, 400, 600, 800, 1000, 1200, 1400, 1600, 1800, 2000]}"
      ]
     },
     "execution_count": 113,
     "metadata": {},
     "output_type": "execute_result"
    }
   ],
   "source": [
    "import numpy as np\n",
    "from sklearn.model_selection import RandomizedSearchCV\n",
    "from pprint import pprint\n",
    "# Number of trees in random forest\n",
    "n_estimators = [int(x) for x in np.linspace(start = 200, stop = 2000, num = 10)]\n",
    "# Number of features to consider at every split\n",
    "max_features = ['auto', 'sqrt']\n",
    "# Maximum number of levels in tree\n",
    "max_depth = [int(x) for x in np.linspace(10, 110, num = 11)]\n",
    "max_depth.append(None)\n",
    "# Minimum number of samples required to split a node\n",
    "min_samples_split = [2, 5, 10]\n",
    "# Minimum number of samples required at each leaf node\n",
    "min_samples_leaf = [1, 2, 4]\n",
    "# Method of selecting samples for training each tree\n",
    "bootstrap = [True, False]\n",
    "# Create the random grid\n",
    "random_grid = {'n_estimators': n_estimators,\n",
    "               'max_features': max_features,\n",
    "               'max_depth': max_depth,\n",
    "               'min_samples_split': min_samples_split,\n",
    "               'min_samples_leaf': min_samples_leaf,\n",
    "               'bootstrap': bootstrap}\n",
    "pprint(random_grid)\n",
    "{'bootstrap': [True, False],\n",
    " 'max_depth': [10, 20, 30, 40, 50, 60, 70, 80, 90, 100, None],\n",
    " 'max_features': ['auto', 'sqrt'],\n",
    " 'min_samples_leaf': [1, 2, 4],\n",
    " 'min_samples_split': [2, 5, 10],\n",
    " 'n_estimators': [200, 400, 600, 800, 1000, 1200, 1400, 1600, 1800, 2000]}"
   ]
  },
  {
   "cell_type": "code",
   "execution_count": null,
   "id": "d03c51c3",
   "metadata": {},
   "outputs": [
    {
     "name": "stdout",
     "output_type": "stream",
     "text": [
      "Fitting 3 folds for each of 100 candidates, totalling 300 fits\n"
     ]
    }
   ],
   "source": [
    "from sklearn.model_selection import RandomizedSearchCV\n",
    "# Use the random grid to search for best hyperparameters\n",
    "# First create the base model to tune\n",
    "rf = RandomForestClassifier()\n",
    "# Random search of parameters, using 3 fold cross validation, \n",
    "# search across 100 different combinations, and use all available cores\n",
    "rf_random = RandomizedSearchCV(estimator = rf, param_distributions = random_grid, n_iter = 100, cv = 3, verbose=2, random_state=42, n_jobs = -1)\n",
    "# Fit the random search model\n",
    "rf_random.fit(X,Y)"
   ]
  },
  {
   "cell_type": "markdown",
   "id": "e11ad3f5",
   "metadata": {},
   "source": [
    "## Scoring the test data"
   ]
  },
  {
   "cell_type": "code",
   "execution_count": 16,
   "id": "4c5b1eae",
   "metadata": {},
   "outputs": [],
   "source": [
    "import pandas as pd\n",
    "test=pd.read_csv(r\"C:\\Users\\Nikhi\\Desktop\\97c63414-3-dataset\\dataset\\test.csv\")\n",
    "prior = pd.read_csv(r'C:\\Users\\Nikhi\\Desktop\\97c63414-3-dataset\\dataset\\Raw Data\\order_products__prior.csv')\n",
    "aisles = pd.read_csv(r'C:\\Users\\Nikhi\\Desktop\\97c63414-3-dataset\\dataset\\Raw Data\\aisles.csv')\n",
    "departments = pd.read_csv(r'C:\\Users\\Nikhi\\Desktop\\97c63414-3-dataset\\dataset\\Raw Data\\departments.csv')\n",
    "prior = pd.read_csv(r'C:\\Users\\Nikhi\\Desktop\\97c63414-3-dataset\\dataset\\Raw Data\\order_products__prior.csv')\n",
    "orders = pd.read_csv(r'C:\\Users\\Nikhi\\Desktop\\97c63414-3-dataset\\dataset\\Raw Data\\orders.csv')\n",
    "products = pd.read_csv(r'C:\\Users\\Nikhi\\Desktop\\97c63414-3-dataset\\dataset\\Raw Data\\products.csv')"
   ]
  },
  {
   "cell_type": "code",
   "execution_count": 17,
   "id": "3fb01071",
   "metadata": {},
   "outputs": [
    {
     "name": "stdout",
     "output_type": "stream",
     "text": [
      "(32434489, 11)\n",
      "Index(['order_id', 'product_id', 'add_to_cart_order', 'reordered', 'itemID',\n",
      "       'ID', 'aisle_id', 'department_id', 'aisle', 'department', 'user_id'],\n",
      "      dtype='object')\n"
     ]
    }
   ],
   "source": [
    "all_orders = pd.concat([prior,test],axis = 0)\n",
    "all_orders = all_orders.merge(products[['product_id','aisle_id','department_id']], how = 'inner', on = 'product_id')\n",
    "all_orders = all_orders.merge(aisles, on = 'aisle_id')\n",
    "all_orders = all_orders.merge(departments, on = 'department_id')\n",
    "all_orders = all_orders.merge(orders[['order_id','user_id']], on = 'order_id')\n",
    "all_orders=all_orders.drop(\"userID\",axis=1)\n",
    "print(all_orders.shape)\n",
    "print(all_orders.columns)"
   ]
  },
  {
   "cell_type": "code",
   "execution_count": 62,
   "id": "8fafd1d6",
   "metadata": {},
   "outputs": [],
   "source": [
    "#all_orders=all_orders.rename(columns={'userID_y':'userID'})"
   ]
  },
  {
   "cell_type": "code",
   "execution_count": 18,
   "id": "ac708636",
   "metadata": {},
   "outputs": [],
   "source": [
    "#Creating user level and aisle level add to card order \n",
    "aisle_hist = all_orders[['user_id','add_to_cart_order','aisle']].groupby(['user_id','aisle']).sum().reset_index()\n",
    "#Creating user level and department level add to card order \n",
    "dept_hist = all_orders[['user_id','add_to_cart_order','department']].groupby(['user_id','department']).sum().reset_index()\n",
    "#Creating the base for aisle segment \n",
    "user_volume = aisle_hist.groupby('user_id')['add_to_cart_order'].sum()\n",
    "#Renaming the columns to volume\n",
    "user_volume = user_volume.reset_index().rename(columns = {'add_to_cart_order':'volume'})\n",
    "#merging the aisle hist with the user volume to get the aisle share \n",
    "aisle_hist = aisle_hist.merge(user_volume, how = 'inner', on = 'user_id')\n",
    "#merging the department hist with the user volume to get the aisle share \n",
    "dept_hist = dept_hist.merge(user_volume, how = 'inner', on = 'user_id')\n",
    "#Calculating aisle share across aisle\n",
    "aisle_hist['aisle_share'] = aisle_hist['add_to_cart_order'] / aisle_hist['volume']\n",
    "#Calculating dept share across department \n",
    "dept_hist['dept_share'] = dept_hist['add_to_cart_order'] / dept_hist['volume']"
   ]
  },
  {
   "cell_type": "code",
   "execution_count": 19,
   "id": "cec47069",
   "metadata": {},
   "outputs": [],
   "source": [
    "#aisle add to cart order summary at user and aisle level\n",
    "aisle_vol_pivot = aisle_hist[['user_id','aisle','add_to_cart_order']].pivot(index = 'user_id', columns = 'aisle', values = 'add_to_cart_order')\n",
    "#aisle aisle share summary at user and aisle level\n",
    "aisle_share_pivot = aisle_hist[['user_id','aisle','aisle_share']].pivot(index = 'user_id', columns = 'aisle', values = 'aisle_share')\n",
    "#aisle add to cart order summary at user and department level\n",
    "dept_vol_pivot = dept_hist[['user_id','department','add_to_cart_order']].pivot(index = 'user_id', columns = 'department', values = 'add_to_cart_order')\n",
    "#aisle share summary at user and department level\n",
    "dept_share_pivot = dept_hist[['user_id','department','dept_share']].pivot(index = 'user_id', columns = 'department', values = 'dept_share')"
   ]
  },
  {
   "cell_type": "code",
   "execution_count": 26,
   "id": "28107433",
   "metadata": {},
   "outputs": [],
   "source": [
    "#Replacing any missing values with zero\n",
    "aisle_vol_pivot = aisle_vol_pivot.fillna(value = 0)\n",
    "aisle_share_pivot = aisle_share_pivot.fillna(value = 0)\n",
    "dept_vol_pivot = dept_vol_pivot.fillna(value = 0)\n",
    "dept_share_pivot = dept_share_pivot.fillna(value = 0)\n",
    "test_n1=test.merge(aisle_share_pivot,left_on=\"userID\",right_on=\"user_id\")\n",
    "test_n2=test_n1.merge(dept_share_pivot,left_on=\"userID\",right_on=\"user_id\")"
   ]
  },
  {
   "cell_type": "code",
   "execution_count": 27,
   "id": "c5d6dcdb",
   "metadata": {},
   "outputs": [
    {
     "data": {
      "text/plain": [
       "Index(['order_id', 'itemID', 'add_to_cart_order', 'userID', 'ID',\n",
       "       'air fresheners candles', 'asian foods', 'baby accessories',\n",
       "       'baby bath body care', 'baby food formula',\n",
       "       ...\n",
       "       'household', 'international', 'meat seafood', 'missing_y', 'other_y',\n",
       "       'pantry', 'personal care', 'pets', 'produce', 'snacks'],\n",
       "      dtype='object', length=160)"
      ]
     },
     "execution_count": 27,
     "metadata": {},
     "output_type": "execute_result"
    }
   ],
   "source": [
    "#there are two columns with the same values. Hence, removing them\n",
    "test_n2.shape\n",
    "test_n2.columns"
   ]
  },
  {
   "cell_type": "code",
   "execution_count": 28,
   "id": "05559864",
   "metadata": {},
   "outputs": [
    {
     "data": {
      "text/plain": [
       "(260664, 158)"
      ]
     },
     "execution_count": 28,
     "metadata": {},
     "output_type": "execute_result"
    }
   ],
   "source": [
    "test_n2=test_n2.drop(['missing_y','other_y'],axis=1)\n",
    "test_n2=test_n2.rename(index={'missing_x':'missing','other_x':'other'})\n",
    "test_n2.shape\n"
   ]
  },
  {
   "cell_type": "markdown",
   "id": "4ec0fd52",
   "metadata": {},
   "source": [
    "# Scoring starts from here "
   ]
  },
  {
   "cell_type": "code",
   "execution_count": 37,
   "id": "510b0a7e",
   "metadata": {},
   "outputs": [
    {
     "data": {
      "text/plain": [
       "Index(['order_id', 'itemID', 'add_to_cart_order', 'userID', 'ID',\n",
       "       'air fresheners candles', 'asian foods', 'baby accessories',\n",
       "       'baby bath body care', 'baby food formula',\n",
       "       ...\n",
       "       'household', 'international', 'meat seafood', 'pantry', 'personal care',\n",
       "       'pets', 'produce', 'snacks', 'user_id', 'product_id'],\n",
       "      dtype='object', length=160)"
      ]
     },
     "execution_count": 37,
     "metadata": {},
     "output_type": "execute_result"
    }
   ],
   "source": [
    "test_n2['user_id']=test_n2['userID']\n",
    "test_n2['product_id']=test_n2['itemID']\n",
    "test_n3=test_n2.rename(index={\"userID\":\"user_id\",\"itemID\":\"product_id\"})\n",
    "score_test=test_n2[l1]\n",
    "test_n3.columns"
   ]
  },
  {
   "cell_type": "code",
   "execution_count": 93,
   "id": "0549f0ba",
   "metadata": {},
   "outputs": [],
   "source": [
    "xgb_test=xgb.predict(score_test)\n",
    "xgb_test1=pd.DataFrame(xgb_test)"
   ]
  },
  {
   "cell_type": "code",
   "execution_count": 94,
   "id": "02aaf6a6",
   "metadata": {},
   "outputs": [],
   "source": [
    "log_test=logreg.predict(score_test)\n",
    "log_test1=pd.DataFrame(log_test)"
   ]
  },
  {
   "cell_type": "code",
   "execution_count": 38,
   "id": "5b2e4860",
   "metadata": {},
   "outputs": [],
   "source": [
    "rf_test=rf.predict(score_test)\n",
    "rf_test1=pd.DataFrame(rf_test)"
   ]
  },
  {
   "cell_type": "code",
   "execution_count": 39,
   "id": "1a322efa",
   "metadata": {},
   "outputs": [],
   "source": [
    "rf_test2=rf_test1.merge(test[['ID']],left_index=True,right_index=True)\n",
    "#xgb_test2=xgb_test1.merge(test[['ID']],left_index=True,right_index=True)\n",
    "#log_test2=log_test1.merge(test[['ID']],left_index=True,right_index=True)"
   ]
  },
  {
   "cell_type": "code",
   "execution_count": 40,
   "id": "dd08bf81",
   "metadata": {},
   "outputs": [],
   "source": [
    "rf_test2.to_csv(\"rf_complete.csv\")"
   ]
  },
  {
   "cell_type": "code",
   "execution_count": 100,
   "id": "69099145",
   "metadata": {},
   "outputs": [],
   "source": [
    "log_test2.to_csv(\"log.csv\")"
   ]
  },
  {
   "cell_type": "code",
   "execution_count": 102,
   "id": "118a160a",
   "metadata": {},
   "outputs": [],
   "source": [
    "xgb_test2.to_csv(\"xgb.csv\")"
   ]
  },
  {
   "cell_type": "code",
   "execution_count": 108,
   "id": "8b44d54a",
   "metadata": {},
   "outputs": [],
   "source": [
    "cat_test1=cat.predict(score_test)\n",
    "cat_test2=pd.DataFrame(cat_test1)\n",
    "cat_test2=cat_test2.merge(test[['ID']],left_index=True,right_index=True)\n",
    "cat_test2.to_csv(\"cat.csv\")"
   ]
  },
  {
   "cell_type": "code",
   "execution_count": 106,
   "id": "bb26c4d4",
   "metadata": {},
   "outputs": [],
   "source": [
    "gbm_test1=gbm.predict(score_test)\n",
    "gbm_test1=pd.DataFrame(gbm_test1)\n",
    "gbm_test2=gbm_test1.merge(test[['ID']],left_index=True,right_index=True)\n",
    "gbm_test2.to_csv(\"gbm.csv\")"
   ]
  }
 ],
 "metadata": {
  "kernelspec": {
   "display_name": "Python 3",
   "language": "python",
   "name": "python3"
  },
  "language_info": {
   "codemirror_mode": {
    "name": "ipython",
    "version": 3
   },
   "file_extension": ".py",
   "mimetype": "text/x-python",
   "name": "python",
   "nbconvert_exporter": "python",
   "pygments_lexer": "ipython3",
   "version": "3.8.8"
  }
 },
 "nbformat": 4,
 "nbformat_minor": 5
}
